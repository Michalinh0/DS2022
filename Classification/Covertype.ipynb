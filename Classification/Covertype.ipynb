{
  "nbformat": 4,
  "nbformat_minor": 0,
  "metadata": {
    "colab": {
      "provenance": [],
      "authorship_tag": "ABX9TyODV/a8AW8aQQsoPqqsS7vG",
      "include_colab_link": true
    },
    "kernelspec": {
      "name": "python3",
      "display_name": "Python 3"
    },
    "language_info": {
      "name": "python"
    }
  },
  "cells": [
    {
      "cell_type": "markdown",
      "metadata": {
        "id": "view-in-github",
        "colab_type": "text"
      },
      "source": [
        "<a href=\"https://colab.research.google.com/github/Michalinh0/DS2022/blob/main/Classification/Covertype.ipynb\" target=\"_parent\"><img src=\"https://colab.research.google.com/assets/colab-badge.svg\" alt=\"Open In Colab\"/></a>"
      ]
    },
    {
      "cell_type": "markdown",
      "source": [
        "# Set up"
      ],
      "metadata": {
        "id": "2MwZu1NZv_FN"
      }
    },
    {
      "cell_type": "markdown",
      "source": [
        "Imports"
      ],
      "metadata": {
        "id": "wtctsRrEwNej"
      }
    },
    {
      "cell_type": "code",
      "source": [
        "import pandas as pd\n",
        "import numpy as np\n",
        "import matplotlib.pyplot as plt\n",
        "import sklearn as sk\n",
        "import pandas as pd\n",
        "import numpy as np\n",
        "import seaborn\n",
        "from sklearn import preprocessing\n",
        "from sklearn.model_selection import train_test_split\n",
        "from sklearn import metrics\n",
        "from sklearn.linear_model import LogisticRegression\n",
        "from sklearn.preprocessing import MinMaxScaler"
      ],
      "metadata": {
        "id": "6kRa9wzGwM7r"
      },
      "execution_count": 1,
      "outputs": []
    },
    {
      "cell_type": "markdown",
      "source": [
        "Prepare dataset"
      ],
      "metadata": {
        "id": "nwL_pbvAwV2h"
      }
    },
    {
      "cell_type": "code",
      "source": [
        "covertype_dataset = pd.read_csv(\"https://raw.githubusercontent.com/Michalinh0/DS2022/main/Classification/sources/covtype.data\")\n",
        "\n",
        "strOfNames = [\"Elevation\" , \"Aspect\" , \"Slope\" , \"Horizontal_Distance_To_Hydrology\" , \"Vertical_Distance_To_Hydrology\" , \"Horizontal_Distance_To_Roadways\" , \"Hillshade_9am\" , \"Hillshade_Noon\" , \"Hillshade_3pm\" , \"Horizontal_Distance_To_Fire_Points\"]\n",
        "for i in range(4):\n",
        "  strOfNames.append(\"Wilderness_Area\" + str(i+1))\n",
        "for i in range(40):\n",
        "  strOfNames.append(\"Soil_type\" + str(i+1))\n",
        "strOfNames.append(\"Cover_type\")\n",
        "\n",
        "covertype_dataset.columns = strOfNames"
      ],
      "metadata": {
        "id": "YkdQQMv4wdpj"
      },
      "execution_count": 2,
      "outputs": []
    },
    {
      "cell_type": "code",
      "source": [
        "input_vector = strOfNames[0:54]\n",
        "print(input_vector)"
      ],
      "metadata": {
        "colab": {
          "base_uri": "https://localhost:8080/"
        },
        "id": "uQHHn9jPyxZY",
        "outputId": "48607fa1-e6ba-4fbe-c476-d9607a70c4f8"
      },
      "execution_count": 3,
      "outputs": [
        {
          "output_type": "stream",
          "name": "stdout",
          "text": [
            "['Elevation', 'Aspect', 'Slope', 'Horizontal_Distance_To_Hydrology', 'Vertical_Distance_To_Hydrology', 'Horizontal_Distance_To_Roadways', 'Hillshade_9am', 'Hillshade_Noon', 'Hillshade_3pm', 'Horizontal_Distance_To_Fire_Points', 'Wilderness_Area1', 'Wilderness_Area2', 'Wilderness_Area3', 'Wilderness_Area4', 'Soil_type1', 'Soil_type2', 'Soil_type3', 'Soil_type4', 'Soil_type5', 'Soil_type6', 'Soil_type7', 'Soil_type8', 'Soil_type9', 'Soil_type10', 'Soil_type11', 'Soil_type12', 'Soil_type13', 'Soil_type14', 'Soil_type15', 'Soil_type16', 'Soil_type17', 'Soil_type18', 'Soil_type19', 'Soil_type20', 'Soil_type21', 'Soil_type22', 'Soil_type23', 'Soil_type24', 'Soil_type25', 'Soil_type26', 'Soil_type27', 'Soil_type28', 'Soil_type29', 'Soil_type30', 'Soil_type31', 'Soil_type32', 'Soil_type33', 'Soil_type34', 'Soil_type35', 'Soil_type36', 'Soil_type37', 'Soil_type38', 'Soil_type39', 'Soil_type40']\n"
          ]
        }
      ]
    },
    {
      "cell_type": "code",
      "source": [
        "#plot = plt.scatter(,covertype_dataset[\"Elevation\"])\n",
        "covertype_dataset.describe()\n",
        "#seaborn.displot(covertype_dataset , x = \"Elevation\")\n",
        "#seaborn.displot(covertype_dataset , x = \"Aspect\")\n",
        "#seaborn.displot(covertype_dataset , x = \"Slope\")\n",
        "#seaborn.displot(covertype_dataset , x = \"Horizontal_Distance_To_Hydrology\")\n",
        "#seaborn.displot(covertype_dataset , x = \"Vertical_Distance_To_Hydrology\")\n",
        "#seaborn.displot(covertype_dataset , x = \"Horizontal_Distance_To_Roadways\")\n",
        "#seaborn.displot(covertype_dataset , x = \"Hillshade_9am\")\n",
        "#seaborn.displot(covertype_dataset , x = \"Hillshade_Noon\")\n",
        "#seaborn.displot(covertype_dataset , x = \"Hillshade_3pm\")\n",
        "#seaborn.displot(covertype_dataset , x = \"Horizontal_Distance_To_Fire_Points\")"
      ],
      "metadata": {
        "colab": {
          "base_uri": "https://localhost:8080/",
          "height": 394
        },
        "id": "2sKDMESa3iAO",
        "outputId": "bc57ce6b-21be-4c59-db4a-fbb33bede3a9"
      },
      "execution_count": 25,
      "outputs": [
        {
          "output_type": "execute_result",
          "data": {
            "text/plain": [
              "           Elevation         Aspect          Slope  \\\n",
              "count  581011.000000  581011.000000  581011.000000   \n",
              "mean     2959.365926     155.656988      14.103723   \n",
              "std       279.984569     111.913733       7.488234   \n",
              "min      1859.000000       0.000000       0.000000   \n",
              "25%      2809.000000      58.000000       9.000000   \n",
              "50%      2996.000000     127.000000      13.000000   \n",
              "75%      3163.000000     260.000000      18.000000   \n",
              "max      3858.000000     360.000000      66.000000   \n",
              "\n",
              "       Horizontal_Distance_To_Hydrology  Vertical_Distance_To_Hydrology  \\\n",
              "count                     581011.000000                   581011.000000   \n",
              "mean                         269.428236                       46.418935   \n",
              "std                          212.549538                       58.295250   \n",
              "min                            0.000000                     -173.000000   \n",
              "25%                          108.000000                        7.000000   \n",
              "50%                          218.000000                       30.000000   \n",
              "75%                          384.000000                       69.000000   \n",
              "max                         1397.000000                      601.000000   \n",
              "\n",
              "       Horizontal_Distance_To_Roadways  Hillshade_9am  Hillshade_Noon  \\\n",
              "count                    581011.000000  581011.000000   581011.000000   \n",
              "mean                       2350.149779     212.146033      223.318701   \n",
              "std                        1559.254343      26.769909       19.768711   \n",
              "min                           0.000000       0.000000        0.000000   \n",
              "25%                        1106.000000     198.000000      213.000000   \n",
              "50%                        1997.000000     218.000000      226.000000   \n",
              "75%                        3328.000000     231.000000      237.000000   \n",
              "max                        7117.000000     254.000000      254.000000   \n",
              "\n",
              "       Hillshade_3pm  Horizontal_Distance_To_Fire_Points  ...    Soil_type32  \\\n",
              "count  581011.000000                       581011.000000  ...  581011.000000   \n",
              "mean      142.528253                         1980.283828  ...       0.090392   \n",
              "std        38.274561                         1324.184340  ...       0.286743   \n",
              "min         0.000000                            0.000000  ...       0.000000   \n",
              "25%       119.000000                         1024.000000  ...       0.000000   \n",
              "50%       143.000000                         1710.000000  ...       0.000000   \n",
              "75%       168.000000                         2550.000000  ...       0.000000   \n",
              "max       254.000000                         7173.000000  ...       1.000000   \n",
              "\n",
              "         Soil_type33    Soil_type34    Soil_type35    Soil_type36  \\\n",
              "count  581011.000000  581011.000000  581011.000000  581011.000000   \n",
              "mean        0.077716       0.002773       0.003255       0.000205   \n",
              "std         0.267725       0.052584       0.056957       0.014310   \n",
              "min         0.000000       0.000000       0.000000       0.000000   \n",
              "25%         0.000000       0.000000       0.000000       0.000000   \n",
              "50%         0.000000       0.000000       0.000000       0.000000   \n",
              "75%         0.000000       0.000000       0.000000       0.000000   \n",
              "max         1.000000       1.000000       1.000000       1.000000   \n",
              "\n",
              "         Soil_type37    Soil_type38    Soil_type39    Soil_type40  \\\n",
              "count  581011.000000  581011.000000  581011.000000  581011.000000   \n",
              "mean        0.000513       0.026803       0.023762       0.015060   \n",
              "std         0.022641       0.161508       0.152307       0.121792   \n",
              "min         0.000000       0.000000       0.000000       0.000000   \n",
              "25%         0.000000       0.000000       0.000000       0.000000   \n",
              "50%         0.000000       0.000000       0.000000       0.000000   \n",
              "75%         0.000000       0.000000       0.000000       0.000000   \n",
              "max         1.000000       1.000000       1.000000       1.000000   \n",
              "\n",
              "          Cover_type  \n",
              "count  581011.000000  \n",
              "mean        2.051465  \n",
              "std         1.396500  \n",
              "min         1.000000  \n",
              "25%         1.000000  \n",
              "50%         2.000000  \n",
              "75%         2.000000  \n",
              "max         7.000000  \n",
              "\n",
              "[8 rows x 55 columns]"
            ],
            "text/html": [
              "\n",
              "  <div id=\"df-9ec83e6d-b8f5-426a-8518-0af54faa444a\">\n",
              "    <div class=\"colab-df-container\">\n",
              "      <div>\n",
              "<style scoped>\n",
              "    .dataframe tbody tr th:only-of-type {\n",
              "        vertical-align: middle;\n",
              "    }\n",
              "\n",
              "    .dataframe tbody tr th {\n",
              "        vertical-align: top;\n",
              "    }\n",
              "\n",
              "    .dataframe thead th {\n",
              "        text-align: right;\n",
              "    }\n",
              "</style>\n",
              "<table border=\"1\" class=\"dataframe\">\n",
              "  <thead>\n",
              "    <tr style=\"text-align: right;\">\n",
              "      <th></th>\n",
              "      <th>Elevation</th>\n",
              "      <th>Aspect</th>\n",
              "      <th>Slope</th>\n",
              "      <th>Horizontal_Distance_To_Hydrology</th>\n",
              "      <th>Vertical_Distance_To_Hydrology</th>\n",
              "      <th>Horizontal_Distance_To_Roadways</th>\n",
              "      <th>Hillshade_9am</th>\n",
              "      <th>Hillshade_Noon</th>\n",
              "      <th>Hillshade_3pm</th>\n",
              "      <th>Horizontal_Distance_To_Fire_Points</th>\n",
              "      <th>...</th>\n",
              "      <th>Soil_type32</th>\n",
              "      <th>Soil_type33</th>\n",
              "      <th>Soil_type34</th>\n",
              "      <th>Soil_type35</th>\n",
              "      <th>Soil_type36</th>\n",
              "      <th>Soil_type37</th>\n",
              "      <th>Soil_type38</th>\n",
              "      <th>Soil_type39</th>\n",
              "      <th>Soil_type40</th>\n",
              "      <th>Cover_type</th>\n",
              "    </tr>\n",
              "  </thead>\n",
              "  <tbody>\n",
              "    <tr>\n",
              "      <th>count</th>\n",
              "      <td>581011.000000</td>\n",
              "      <td>581011.000000</td>\n",
              "      <td>581011.000000</td>\n",
              "      <td>581011.000000</td>\n",
              "      <td>581011.000000</td>\n",
              "      <td>581011.000000</td>\n",
              "      <td>581011.000000</td>\n",
              "      <td>581011.000000</td>\n",
              "      <td>581011.000000</td>\n",
              "      <td>581011.000000</td>\n",
              "      <td>...</td>\n",
              "      <td>581011.000000</td>\n",
              "      <td>581011.000000</td>\n",
              "      <td>581011.000000</td>\n",
              "      <td>581011.000000</td>\n",
              "      <td>581011.000000</td>\n",
              "      <td>581011.000000</td>\n",
              "      <td>581011.000000</td>\n",
              "      <td>581011.000000</td>\n",
              "      <td>581011.000000</td>\n",
              "      <td>581011.000000</td>\n",
              "    </tr>\n",
              "    <tr>\n",
              "      <th>mean</th>\n",
              "      <td>2959.365926</td>\n",
              "      <td>155.656988</td>\n",
              "      <td>14.103723</td>\n",
              "      <td>269.428236</td>\n",
              "      <td>46.418935</td>\n",
              "      <td>2350.149779</td>\n",
              "      <td>212.146033</td>\n",
              "      <td>223.318701</td>\n",
              "      <td>142.528253</td>\n",
              "      <td>1980.283828</td>\n",
              "      <td>...</td>\n",
              "      <td>0.090392</td>\n",
              "      <td>0.077716</td>\n",
              "      <td>0.002773</td>\n",
              "      <td>0.003255</td>\n",
              "      <td>0.000205</td>\n",
              "      <td>0.000513</td>\n",
              "      <td>0.026803</td>\n",
              "      <td>0.023762</td>\n",
              "      <td>0.015060</td>\n",
              "      <td>2.051465</td>\n",
              "    </tr>\n",
              "    <tr>\n",
              "      <th>std</th>\n",
              "      <td>279.984569</td>\n",
              "      <td>111.913733</td>\n",
              "      <td>7.488234</td>\n",
              "      <td>212.549538</td>\n",
              "      <td>58.295250</td>\n",
              "      <td>1559.254343</td>\n",
              "      <td>26.769909</td>\n",
              "      <td>19.768711</td>\n",
              "      <td>38.274561</td>\n",
              "      <td>1324.184340</td>\n",
              "      <td>...</td>\n",
              "      <td>0.286743</td>\n",
              "      <td>0.267725</td>\n",
              "      <td>0.052584</td>\n",
              "      <td>0.056957</td>\n",
              "      <td>0.014310</td>\n",
              "      <td>0.022641</td>\n",
              "      <td>0.161508</td>\n",
              "      <td>0.152307</td>\n",
              "      <td>0.121792</td>\n",
              "      <td>1.396500</td>\n",
              "    </tr>\n",
              "    <tr>\n",
              "      <th>min</th>\n",
              "      <td>1859.000000</td>\n",
              "      <td>0.000000</td>\n",
              "      <td>0.000000</td>\n",
              "      <td>0.000000</td>\n",
              "      <td>-173.000000</td>\n",
              "      <td>0.000000</td>\n",
              "      <td>0.000000</td>\n",
              "      <td>0.000000</td>\n",
              "      <td>0.000000</td>\n",
              "      <td>0.000000</td>\n",
              "      <td>...</td>\n",
              "      <td>0.000000</td>\n",
              "      <td>0.000000</td>\n",
              "      <td>0.000000</td>\n",
              "      <td>0.000000</td>\n",
              "      <td>0.000000</td>\n",
              "      <td>0.000000</td>\n",
              "      <td>0.000000</td>\n",
              "      <td>0.000000</td>\n",
              "      <td>0.000000</td>\n",
              "      <td>1.000000</td>\n",
              "    </tr>\n",
              "    <tr>\n",
              "      <th>25%</th>\n",
              "      <td>2809.000000</td>\n",
              "      <td>58.000000</td>\n",
              "      <td>9.000000</td>\n",
              "      <td>108.000000</td>\n",
              "      <td>7.000000</td>\n",
              "      <td>1106.000000</td>\n",
              "      <td>198.000000</td>\n",
              "      <td>213.000000</td>\n",
              "      <td>119.000000</td>\n",
              "      <td>1024.000000</td>\n",
              "      <td>...</td>\n",
              "      <td>0.000000</td>\n",
              "      <td>0.000000</td>\n",
              "      <td>0.000000</td>\n",
              "      <td>0.000000</td>\n",
              "      <td>0.000000</td>\n",
              "      <td>0.000000</td>\n",
              "      <td>0.000000</td>\n",
              "      <td>0.000000</td>\n",
              "      <td>0.000000</td>\n",
              "      <td>1.000000</td>\n",
              "    </tr>\n",
              "    <tr>\n",
              "      <th>50%</th>\n",
              "      <td>2996.000000</td>\n",
              "      <td>127.000000</td>\n",
              "      <td>13.000000</td>\n",
              "      <td>218.000000</td>\n",
              "      <td>30.000000</td>\n",
              "      <td>1997.000000</td>\n",
              "      <td>218.000000</td>\n",
              "      <td>226.000000</td>\n",
              "      <td>143.000000</td>\n",
              "      <td>1710.000000</td>\n",
              "      <td>...</td>\n",
              "      <td>0.000000</td>\n",
              "      <td>0.000000</td>\n",
              "      <td>0.000000</td>\n",
              "      <td>0.000000</td>\n",
              "      <td>0.000000</td>\n",
              "      <td>0.000000</td>\n",
              "      <td>0.000000</td>\n",
              "      <td>0.000000</td>\n",
              "      <td>0.000000</td>\n",
              "      <td>2.000000</td>\n",
              "    </tr>\n",
              "    <tr>\n",
              "      <th>75%</th>\n",
              "      <td>3163.000000</td>\n",
              "      <td>260.000000</td>\n",
              "      <td>18.000000</td>\n",
              "      <td>384.000000</td>\n",
              "      <td>69.000000</td>\n",
              "      <td>3328.000000</td>\n",
              "      <td>231.000000</td>\n",
              "      <td>237.000000</td>\n",
              "      <td>168.000000</td>\n",
              "      <td>2550.000000</td>\n",
              "      <td>...</td>\n",
              "      <td>0.000000</td>\n",
              "      <td>0.000000</td>\n",
              "      <td>0.000000</td>\n",
              "      <td>0.000000</td>\n",
              "      <td>0.000000</td>\n",
              "      <td>0.000000</td>\n",
              "      <td>0.000000</td>\n",
              "      <td>0.000000</td>\n",
              "      <td>0.000000</td>\n",
              "      <td>2.000000</td>\n",
              "    </tr>\n",
              "    <tr>\n",
              "      <th>max</th>\n",
              "      <td>3858.000000</td>\n",
              "      <td>360.000000</td>\n",
              "      <td>66.000000</td>\n",
              "      <td>1397.000000</td>\n",
              "      <td>601.000000</td>\n",
              "      <td>7117.000000</td>\n",
              "      <td>254.000000</td>\n",
              "      <td>254.000000</td>\n",
              "      <td>254.000000</td>\n",
              "      <td>7173.000000</td>\n",
              "      <td>...</td>\n",
              "      <td>1.000000</td>\n",
              "      <td>1.000000</td>\n",
              "      <td>1.000000</td>\n",
              "      <td>1.000000</td>\n",
              "      <td>1.000000</td>\n",
              "      <td>1.000000</td>\n",
              "      <td>1.000000</td>\n",
              "      <td>1.000000</td>\n",
              "      <td>1.000000</td>\n",
              "      <td>7.000000</td>\n",
              "    </tr>\n",
              "  </tbody>\n",
              "</table>\n",
              "<p>8 rows × 55 columns</p>\n",
              "</div>\n",
              "      <button class=\"colab-df-convert\" onclick=\"convertToInteractive('df-9ec83e6d-b8f5-426a-8518-0af54faa444a')\"\n",
              "              title=\"Convert this dataframe to an interactive table.\"\n",
              "              style=\"display:none;\">\n",
              "        \n",
              "  <svg xmlns=\"http://www.w3.org/2000/svg\" height=\"24px\"viewBox=\"0 0 24 24\"\n",
              "       width=\"24px\">\n",
              "    <path d=\"M0 0h24v24H0V0z\" fill=\"none\"/>\n",
              "    <path d=\"M18.56 5.44l.94 2.06.94-2.06 2.06-.94-2.06-.94-.94-2.06-.94 2.06-2.06.94zm-11 1L8.5 8.5l.94-2.06 2.06-.94-2.06-.94L8.5 2.5l-.94 2.06-2.06.94zm10 10l.94 2.06.94-2.06 2.06-.94-2.06-.94-.94-2.06-.94 2.06-2.06.94z\"/><path d=\"M17.41 7.96l-1.37-1.37c-.4-.4-.92-.59-1.43-.59-.52 0-1.04.2-1.43.59L10.3 9.45l-7.72 7.72c-.78.78-.78 2.05 0 2.83L4 21.41c.39.39.9.59 1.41.59.51 0 1.02-.2 1.41-.59l7.78-7.78 2.81-2.81c.8-.78.8-2.07 0-2.86zM5.41 20L4 18.59l7.72-7.72 1.47 1.35L5.41 20z\"/>\n",
              "  </svg>\n",
              "      </button>\n",
              "      \n",
              "  <style>\n",
              "    .colab-df-container {\n",
              "      display:flex;\n",
              "      flex-wrap:wrap;\n",
              "      gap: 12px;\n",
              "    }\n",
              "\n",
              "    .colab-df-convert {\n",
              "      background-color: #E8F0FE;\n",
              "      border: none;\n",
              "      border-radius: 50%;\n",
              "      cursor: pointer;\n",
              "      display: none;\n",
              "      fill: #1967D2;\n",
              "      height: 32px;\n",
              "      padding: 0 0 0 0;\n",
              "      width: 32px;\n",
              "    }\n",
              "\n",
              "    .colab-df-convert:hover {\n",
              "      background-color: #E2EBFA;\n",
              "      box-shadow: 0px 1px 2px rgba(60, 64, 67, 0.3), 0px 1px 3px 1px rgba(60, 64, 67, 0.15);\n",
              "      fill: #174EA6;\n",
              "    }\n",
              "\n",
              "    [theme=dark] .colab-df-convert {\n",
              "      background-color: #3B4455;\n",
              "      fill: #D2E3FC;\n",
              "    }\n",
              "\n",
              "    [theme=dark] .colab-df-convert:hover {\n",
              "      background-color: #434B5C;\n",
              "      box-shadow: 0px 1px 3px 1px rgba(0, 0, 0, 0.15);\n",
              "      filter: drop-shadow(0px 1px 2px rgba(0, 0, 0, 0.3));\n",
              "      fill: #FFFFFF;\n",
              "    }\n",
              "  </style>\n",
              "\n",
              "      <script>\n",
              "        const buttonEl =\n",
              "          document.querySelector('#df-9ec83e6d-b8f5-426a-8518-0af54faa444a button.colab-df-convert');\n",
              "        buttonEl.style.display =\n",
              "          google.colab.kernel.accessAllowed ? 'block' : 'none';\n",
              "\n",
              "        async function convertToInteractive(key) {\n",
              "          const element = document.querySelector('#df-9ec83e6d-b8f5-426a-8518-0af54faa444a');\n",
              "          const dataTable =\n",
              "            await google.colab.kernel.invokeFunction('convertToInteractive',\n",
              "                                                     [key], {});\n",
              "          if (!dataTable) return;\n",
              "\n",
              "          const docLinkHtml = 'Like what you see? Visit the ' +\n",
              "            '<a target=\"_blank\" href=https://colab.research.google.com/notebooks/data_table.ipynb>data table notebook</a>'\n",
              "            + ' to learn more about interactive tables.';\n",
              "          element.innerHTML = '';\n",
              "          dataTable['output_type'] = 'display_data';\n",
              "          await google.colab.output.renderOutput(dataTable, element);\n",
              "          const docLink = document.createElement('div');\n",
              "          docLink.innerHTML = docLinkHtml;\n",
              "          element.appendChild(docLink);\n",
              "        }\n",
              "      </script>\n",
              "    </div>\n",
              "  </div>\n",
              "  "
            ]
          },
          "metadata": {},
          "execution_count": 25
        }
      ]
    },
    {
      "cell_type": "markdown",
      "source": [
        "First model : no data manipulation"
      ],
      "metadata": {
        "id": "QWRtfZ3m0bYj"
      }
    },
    {
      "cell_type": "code",
      "source": [
        "x = covertype_dataset[input_vector]\n",
        "y = covertype_dataset[\"Cover_type\"]\n",
        "\n",
        "x_train ,x_test , y_train , y_test = train_test_split(x,y,test_size = 0.1)\n",
        "\n",
        "y_test.value_counts()\n"
      ],
      "metadata": {
        "colab": {
          "base_uri": "https://localhost:8080/"
        },
        "id": "L4RmftcTz0Do",
        "outputId": "9c333e0c-8b34-46db-98d7-a944170cfc67"
      },
      "execution_count": 4,
      "outputs": [
        {
          "output_type": "execute_result",
          "data": {
            "text/plain": [
              "2    28400\n",
              "1    21284\n",
              "3     3499\n",
              "7     2011\n",
              "6     1710\n",
              "5      957\n",
              "4      241\n",
              "Name: Cover_type, dtype: int64"
            ]
          },
          "metadata": {},
          "execution_count": 4
        }
      ]
    },
    {
      "cell_type": "code",
      "source": [
        "model = LogisticRegression()\n",
        "model.fit(x_train , y_train)"
      ],
      "metadata": {
        "id": "aeFcrBQpy_TW",
        "outputId": "2a5580a0-fee6-4232-ae93-fda5b7ce53e1",
        "colab": {
          "base_uri": "https://localhost:8080/"
        }
      },
      "execution_count": 5,
      "outputs": [
        {
          "output_type": "stream",
          "name": "stderr",
          "text": [
            "/usr/local/lib/python3.8/dist-packages/sklearn/linear_model/_logistic.py:814: ConvergenceWarning: lbfgs failed to converge (status=1):\n",
            "STOP: TOTAL NO. of ITERATIONS REACHED LIMIT.\n",
            "\n",
            "Increase the number of iterations (max_iter) or scale the data as shown in:\n",
            "    https://scikit-learn.org/stable/modules/preprocessing.html\n",
            "Please also refer to the documentation for alternative solver options:\n",
            "    https://scikit-learn.org/stable/modules/linear_model.html#logistic-regression\n",
            "  n_iter_i = _check_optimize_result(\n"
          ]
        },
        {
          "output_type": "execute_result",
          "data": {
            "text/plain": [
              "LogisticRegression()"
            ]
          },
          "metadata": {},
          "execution_count": 5
        }
      ]
    },
    {
      "cell_type": "code",
      "source": [
        "y_pred = model.predict(x_test)\n",
        "\n",
        "metrics.confusion_matrix(y_test, y_pred)\n",
        "print(metrics.classification_report(y_test, y_pred, digits=3))\n"
      ],
      "metadata": {
        "id": "hNckWHzbxJHr",
        "outputId": "200b13bb-70a3-4564-8231-8922fd2c0fa4",
        "colab": {
          "base_uri": "https://localhost:8080/"
        }
      },
      "execution_count": 6,
      "outputs": [
        {
          "output_type": "stream",
          "name": "stdout",
          "text": [
            "              precision    recall  f1-score   support\n",
            "\n",
            "           1      0.620     0.643     0.631     21284\n",
            "           2      0.625     0.770     0.690     28400\n",
            "           3      0.584     0.167     0.259      3499\n",
            "           4      0.000     0.000     0.000       241\n",
            "           5      0.000     0.000     0.000       957\n",
            "           6      0.000     0.000     0.000      1710\n",
            "           7      0.000     0.000     0.000      2011\n",
            "\n",
            "    accuracy                          0.622     58102\n",
            "   macro avg      0.261     0.226     0.226     58102\n",
            "weighted avg      0.568     0.622     0.584     58102\n",
            "\n"
          ]
        },
        {
          "output_type": "stream",
          "name": "stderr",
          "text": [
            "/usr/local/lib/python3.8/dist-packages/sklearn/metrics/_classification.py:1318: UndefinedMetricWarning: Precision and F-score are ill-defined and being set to 0.0 in labels with no predicted samples. Use `zero_division` parameter to control this behavior.\n",
            "  _warn_prf(average, modifier, msg_start, len(result))\n",
            "/usr/local/lib/python3.8/dist-packages/sklearn/metrics/_classification.py:1318: UndefinedMetricWarning: Precision and F-score are ill-defined and being set to 0.0 in labels with no predicted samples. Use `zero_division` parameter to control this behavior.\n",
            "  _warn_prf(average, modifier, msg_start, len(result))\n",
            "/usr/local/lib/python3.8/dist-packages/sklearn/metrics/_classification.py:1318: UndefinedMetricWarning: Precision and F-score are ill-defined and being set to 0.0 in labels with no predicted samples. Use `zero_division` parameter to control this behavior.\n",
            "  _warn_prf(average, modifier, msg_start, len(result))\n"
          ]
        }
      ]
    },
    {
      "cell_type": "markdown",
      "source": [
        "Data normalization"
      ],
      "metadata": {
        "id": "lSfF8I333MRC"
      }
    },
    {
      "cell_type": "code",
      "source": [
        "scaler = MinMaxScaler()\n",
        "x_scaled = scaler.fit_transform(x)"
      ],
      "metadata": {
        "id": "5WgTfzl83Loi"
      },
      "execution_count": 7,
      "outputs": []
    },
    {
      "cell_type": "markdown",
      "source": [
        "Second model - normalized data\n"
      ],
      "metadata": {
        "id": "uclgM-EM5JUp"
      }
    },
    {
      "cell_type": "code",
      "source": [
        "x_train ,x_test , y_train , y_test = train_test_split(x_scaled,y,test_size = 0.1)\n",
        "model = LogisticRegression(solver='liblinear' , verbose = 10)\n",
        "model.fit(x_train , y_train)"
      ],
      "metadata": {
        "id": "avcnJwIB5L4C",
        "outputId": "3f4cdbf8-84cc-438d-da7b-56273f8ca15d",
        "colab": {
          "base_uri": "https://localhost:8080/"
        }
      },
      "execution_count": 9,
      "outputs": [
        {
          "output_type": "stream",
          "name": "stdout",
          "text": [
            "[LibLinear]"
          ]
        },
        {
          "output_type": "execute_result",
          "data": {
            "text/plain": [
              "LogisticRegression(solver='liblinear', verbose=10)"
            ]
          },
          "metadata": {},
          "execution_count": 9
        }
      ]
    },
    {
      "cell_type": "code",
      "source": [
        "y_pred = model.predict(x_test)\n",
        "\n",
        "print (metrics.confusion_matrix(y_test, y_pred))\n",
        "print(metrics.classification_report(y_test, y_pred, digits=3))"
      ],
      "metadata": {
        "id": "ecIvmiIs6eql",
        "outputId": "94e9034b-bd34-4804-b62a-902a0b22fd4c",
        "colab": {
          "base_uri": "https://localhost:8080/"
        }
      },
      "execution_count": 12,
      "outputs": [
        {
          "output_type": "stream",
          "name": "stdout",
          "text": [
            "[[14568  6197    24     0     3     0   434]\n",
            " [ 4856 22646   630     0    30    46    48]\n",
            " [    0   382  3121    31     2    90     0]\n",
            " [    0     0   178    66     0    28     0]\n",
            " [   14   858    85     0    13     0     0]\n",
            " [    0   624   984     8     2   109     0]\n",
            " [  896    10     4     0     0     0  1115]]\n",
            "              precision    recall  f1-score   support\n",
            "\n",
            "           1      0.716     0.686     0.701     21226\n",
            "           2      0.737     0.801     0.768     28256\n",
            "           3      0.621     0.861     0.721      3626\n",
            "           4      0.629     0.243     0.350       272\n",
            "           5      0.260     0.013     0.025       970\n",
            "           6      0.399     0.063     0.109      1727\n",
            "           7      0.698     0.551     0.616      2025\n",
            "\n",
            "    accuracy                          0.717     58102\n",
            "   macro avg      0.580     0.460     0.470     58102\n",
            "weighted avg      0.703     0.717     0.701     58102\n",
            "\n"
          ]
        }
      ]
    }
  ]
}