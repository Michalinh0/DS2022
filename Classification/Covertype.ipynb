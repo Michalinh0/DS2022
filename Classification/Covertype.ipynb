{
  "nbformat": 4,
  "nbformat_minor": 0,
  "metadata": {
    "colab": {
      "provenance": [],
      "authorship_tag": "ABX9TyONq0bfyw/MqZmsgtvb5T4+",
      "include_colab_link": true
    },
    "kernelspec": {
      "name": "python3",
      "display_name": "Python 3"
    },
    "language_info": {
      "name": "python"
    }
  },
  "cells": [
    {
      "cell_type": "markdown",
      "metadata": {
        "id": "view-in-github",
        "colab_type": "text"
      },
      "source": [
        "<a href=\"https://colab.research.google.com/github/Michalinh0/DS2022/blob/main/Classification/Covertype.ipynb\" target=\"_parent\"><img src=\"https://colab.research.google.com/assets/colab-badge.svg\" alt=\"Open In Colab\"/></a>"
      ]
    },
    {
      "cell_type": "markdown",
      "source": [
        "# Set up"
      ],
      "metadata": {
        "id": "2MwZu1NZv_FN"
      }
    },
    {
      "cell_type": "markdown",
      "source": [
        "Imports"
      ],
      "metadata": {
        "id": "wtctsRrEwNej"
      }
    },
    {
      "cell_type": "code",
      "source": [
        "import pandas as pd\n",
        "import numpy as np\n",
        "import matplotlib.pyplot as plt\n",
        "import sklearn as sk\n",
        "import pandas as pd\n",
        "import numpy as np"
      ],
      "metadata": {
        "id": "6kRa9wzGwM7r"
      },
      "execution_count": 2,
      "outputs": []
    },
    {
      "cell_type": "markdown",
      "source": [
        "Prepare dataset"
      ],
      "metadata": {
        "id": "nwL_pbvAwV2h"
      }
    },
    {
      "cell_type": "code",
      "source": [
        "covertype_dataset = pd.read_csv(\"https://raw.githubusercontent.com/Michalinh0/DS2022/main/Classification/sources/covtype.data\")\n",
        "\n",
        "strOfNames = [\"Elevation\" , \"Aspect\" , \"Slope\" , \"Horizontal_Distance_To_Hydrology\" , \"Vertical_Distance_To_Hydrology\" , \"Horizontal_Distance_To_Roadways\" , \"Hillshade_9am\" , \"Hillshade_Noon\" , \"Hillshade_3pm\" , \"Horizontal_Distance_To_Fire_Points\"]\n",
        "for i in range(4):\n",
        "  strOfNames.append(\"Wilderness_Area\" + str(i+1))\n",
        "for i in range(40):\n",
        "  strOfNames.append(\"Soil_type\" + str(i+1))\n",
        "strOfNames.append(\"Cover_type\")\n",
        "\n",
        "covertype_dataset.columns = strOfNames"
      ],
      "metadata": {
        "id": "YkdQQMv4wdpj"
      },
      "execution_count": 6,
      "outputs": []
    },
    {
      "cell_type": "code",
      "source": [
        "input_vector = strOfNames[0:54]\n",
        "print(input_vector)"
      ],
      "metadata": {
        "colab": {
          "base_uri": "https://localhost:8080/"
        },
        "id": "uQHHn9jPyxZY",
        "outputId": "840e4ed7-f2eb-48c8-ca47-fe1b602a39ce"
      },
      "execution_count": 7,
      "outputs": [
        {
          "output_type": "stream",
          "name": "stdout",
          "text": [
            "['Elevation', 'Aspect', 'Slope', 'Horizontal_Distance_To_Hydrology', 'Vertical_Distance_To_Hydrology', 'Horizontal_Distance_To_Roadways', 'Hillshade_9am', 'Hillshade_Noon', 'Hillshade_3pm', 'Horizontal_Distance_To_Fire_Points', 'Wilderness_Area1', 'Wilderness_Area2', 'Wilderness_Area3', 'Wilderness_Area4', 'Soil_type1', 'Soil_type2', 'Soil_type3', 'Soil_type4', 'Soil_type5', 'Soil_type6', 'Soil_type7', 'Soil_type8', 'Soil_type9', 'Soil_type10', 'Soil_type11', 'Soil_type12', 'Soil_type13', 'Soil_type14', 'Soil_type15', 'Soil_type16', 'Soil_type17', 'Soil_type18', 'Soil_type19', 'Soil_type20', 'Soil_type21', 'Soil_type22', 'Soil_type23', 'Soil_type24', 'Soil_type25', 'Soil_type26', 'Soil_type27', 'Soil_type28', 'Soil_type29', 'Soil_type30', 'Soil_type31', 'Soil_type32', 'Soil_type33', 'Soil_type34', 'Soil_type35', 'Soil_type36', 'Soil_type37', 'Soil_type38', 'Soil_type39', 'Soil_type40']\n"
          ]
        }
      ]
    },
    {
      "cell_type": "code",
      "source": [],
      "metadata": {
        "id": "L4RmftcTz0Do"
      },
      "execution_count": null,
      "outputs": []
    }
  ]
}