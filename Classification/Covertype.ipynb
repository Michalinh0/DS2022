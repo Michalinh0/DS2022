{
  "nbformat": 4,
  "nbformat_minor": 0,
  "metadata": {
    "colab": {
      "provenance": [],
      "authorship_tag": "ABX9TyOCzptTd4h3RxJAuRiz+QKT",
      "include_colab_link": true
    },
    "kernelspec": {
      "name": "python3",
      "display_name": "Python 3"
    },
    "language_info": {
      "name": "python"
    }
  },
  "cells": [
    {
      "cell_type": "markdown",
      "metadata": {
        "id": "view-in-github",
        "colab_type": "text"
      },
      "source": [
        "<a href=\"https://colab.research.google.com/github/Michalinh0/DS2022/blob/main/Classification/Covertype.ipynb\" target=\"_parent\"><img src=\"https://colab.research.google.com/assets/colab-badge.svg\" alt=\"Open In Colab\"/></a>"
      ]
    },
    {
      "cell_type": "markdown",
      "source": [
        "# Set up"
      ],
      "metadata": {
        "id": "2MwZu1NZv_FN"
      }
    },
    {
      "cell_type": "markdown",
      "source": [
        "Imports"
      ],
      "metadata": {
        "id": "wtctsRrEwNej"
      }
    },
    {
      "cell_type": "code",
      "source": [
        "import pandas as pd\n",
        "import numpy as np\n",
        "import matplotlib.pyplot as plt\n",
        "import sklearn as sk\n",
        "import pandas as pd\n",
        "import numpy as np\n",
        "import seaborn\n",
        "from sklearn import preprocessing\n",
        "from sklearn.model_selection import train_test_split\n",
        "from sklearn import metrics\n",
        "from sklearn.linear_model import LogisticRegression\n",
        "from sklearn.preprocessing import MinMaxScaler"
      ],
      "metadata": {
        "id": "6kRa9wzGwM7r"
      },
      "execution_count": 1,
      "outputs": []
    },
    {
      "cell_type": "markdown",
      "source": [
        "Prepare dataset"
      ],
      "metadata": {
        "id": "nwL_pbvAwV2h"
      }
    },
    {
      "cell_type": "code",
      "source": [
        "covertype_dataset = pd.read_csv(\"https://raw.githubusercontent.com/Michalinh0/DS2022/main/Classification/sources/covtype.data\")\n",
        "\n",
        "strOfNames = [\"Elevation\" , \"Aspect\" , \"Slope\" , \"Horizontal_Distance_To_Hydrology\" , \"Vertical_Distance_To_Hydrology\" , \"Horizontal_Distance_To_Roadways\" , \"Hillshade_9am\" , \"Hillshade_Noon\" , \"Hillshade_3pm\" , \"Horizontal_Distance_To_Fire_Points\"]\n",
        "for i in range(4):\n",
        "  strOfNames.append(\"Wilderness_Area\" + str(i+1))\n",
        "for i in range(40):\n",
        "  strOfNames.append(\"Soil_type\" + str(i+1))\n",
        "strOfNames.append(\"Cover_type\")\n",
        "\n",
        "covertype_dataset.columns = strOfNames"
      ],
      "metadata": {
        "id": "YkdQQMv4wdpj"
      },
      "execution_count": 2,
      "outputs": []
    },
    {
      "cell_type": "code",
      "source": [
        "input_vector = strOfNames[0:54]\n",
        "print(input_vector)"
      ],
      "metadata": {
        "colab": {
          "base_uri": "https://localhost:8080/"
        },
        "id": "uQHHn9jPyxZY",
        "outputId": "48607fa1-e6ba-4fbe-c476-d9607a70c4f8"
      },
      "execution_count": 3,
      "outputs": [
        {
          "output_type": "stream",
          "name": "stdout",
          "text": [
            "['Elevation', 'Aspect', 'Slope', 'Horizontal_Distance_To_Hydrology', 'Vertical_Distance_To_Hydrology', 'Horizontal_Distance_To_Roadways', 'Hillshade_9am', 'Hillshade_Noon', 'Hillshade_3pm', 'Horizontal_Distance_To_Fire_Points', 'Wilderness_Area1', 'Wilderness_Area2', 'Wilderness_Area3', 'Wilderness_Area4', 'Soil_type1', 'Soil_type2', 'Soil_type3', 'Soil_type4', 'Soil_type5', 'Soil_type6', 'Soil_type7', 'Soil_type8', 'Soil_type9', 'Soil_type10', 'Soil_type11', 'Soil_type12', 'Soil_type13', 'Soil_type14', 'Soil_type15', 'Soil_type16', 'Soil_type17', 'Soil_type18', 'Soil_type19', 'Soil_type20', 'Soil_type21', 'Soil_type22', 'Soil_type23', 'Soil_type24', 'Soil_type25', 'Soil_type26', 'Soil_type27', 'Soil_type28', 'Soil_type29', 'Soil_type30', 'Soil_type31', 'Soil_type32', 'Soil_type33', 'Soil_type34', 'Soil_type35', 'Soil_type36', 'Soil_type37', 'Soil_type38', 'Soil_type39', 'Soil_type40']\n"
          ]
        }
      ]
    },
    {
      "cell_type": "code",
      "source": [
        "#plot = plt.scatter(,covertype_dataset[\"Elevation\"])\n",
        "covertype_dataset.describe()\n",
        "#seaborn.displot(covertype_dataset , x = \"Elevation\")\n",
        "#seaborn.displot(covertype_dataset , x = \"Aspect\")\n",
        "#seaborn.displot(covertype_dataset , x = \"Slope\")\n",
        "#seaborn.displot(covertype_dataset , x = \"Horizontal_Distance_To_Hydrology\")\n",
        "#seaborn.displot(covertype_dataset , x = \"Vertical_Distance_To_Hydrology\")\n",
        "#seaborn.displot(covertype_dataset , x = \"Horizontal_Distance_To_Roadways\")\n",
        "#seaborn.displot(covertype_dataset , x = \"Hillshade_9am\")\n",
        "#seaborn.displot(covertype_dataset , x = \"Hillshade_Noon\")\n",
        "#seaborn.displot(covertype_dataset , x = \"Hillshade_3pm\")\n",
        "#seaborn.displot(covertype_dataset , x = \"Horizontal_Distance_To_Fire_Points\")\n",
        "covertype_dataset[\"Cover_type\"].value_counts()"
      ],
      "metadata": {
        "colab": {
          "base_uri": "https://localhost:8080/"
        },
        "id": "2sKDMESa3iAO",
        "outputId": "5cf52b54-85bf-44bc-aab6-d088bd8d27b2"
      },
      "execution_count": 13,
      "outputs": [
        {
          "output_type": "execute_result",
          "data": {
            "text/plain": [
              "2    283301\n",
              "1    211840\n",
              "3     35754\n",
              "7     20510\n",
              "6     17367\n",
              "5      9492\n",
              "4      2747\n",
              "Name: Cover_type, dtype: int64"
            ]
          },
          "metadata": {},
          "execution_count": 13
        }
      ]
    },
    {
      "cell_type": "markdown",
      "source": [
        "First model : no data manipulation"
      ],
      "metadata": {
        "id": "QWRtfZ3m0bYj"
      }
    },
    {
      "cell_type": "code",
      "source": [
        "x = covertype_dataset[input_vector]\n",
        "y = covertype_dataset[\"Cover_type\"]\n",
        "\n",
        "x_train ,x_test , y_train , y_test = train_test_split(x,y,test_size = 0.1)\n",
        "\n",
        "y_test.value_counts()\n",
        "\n",
        "\n"
      ],
      "metadata": {
        "colab": {
          "base_uri": "https://localhost:8080/"
        },
        "id": "L4RmftcTz0Do",
        "outputId": "56a5858e-ae4d-4bfb-94f7-545e565a8d5b"
      },
      "execution_count": 14,
      "outputs": [
        {
          "output_type": "execute_result",
          "data": {
            "text/plain": [
              "2    28255\n",
              "1    21202\n",
              "3     3501\n",
              "7     2050\n",
              "6     1807\n",
              "5     1008\n",
              "4      279\n",
              "Name: Cover_type, dtype: int64"
            ]
          },
          "metadata": {},
          "execution_count": 14
        }
      ]
    },
    {
      "cell_type": "code",
      "source": [
        "model = LogisticRegression(class_weight = 'balanced' , solver='liblinear')\n",
        "model.fit(x_train , y_train)"
      ],
      "metadata": {
        "colab": {
          "base_uri": "https://localhost:8080/"
        },
        "id": "aeFcrBQpy_TW",
        "outputId": "8d9b4f01-0272-4c68-b362-38c409cd4314"
      },
      "execution_count": 16,
      "outputs": [
        {
          "output_type": "execute_result",
          "data": {
            "text/plain": [
              "LogisticRegression(class_weight='balanced', solver='liblinear')"
            ]
          },
          "metadata": {},
          "execution_count": 16
        }
      ]
    },
    {
      "cell_type": "code",
      "source": [
        "y_pred = model.predict(x_test)\n",
        "\n",
        "metrics.confusion_matrix(y_test, y_pred)\n",
        "print(metrics.classification_report(y_test, y_pred, digits=3))\n"
      ],
      "metadata": {
        "colab": {
          "base_uri": "https://localhost:8080/"
        },
        "id": "hNckWHzbxJHr",
        "outputId": "f1f437c2-073f-442a-b0f5-95de45b67741"
      },
      "execution_count": 17,
      "outputs": [
        {
          "output_type": "stream",
          "name": "stdout",
          "text": [
            "              precision    recall  f1-score   support\n",
            "\n",
            "           1      0.693     0.663     0.678     21202\n",
            "           2      0.756     0.692     0.723     28255\n",
            "           3      0.632     0.717     0.672      3501\n",
            "           4      0.361     0.616     0.455       279\n",
            "           5      0.188     0.422     0.260      1008\n",
            "           6      0.344     0.474     0.399      1807\n",
            "           7      0.546     0.724     0.623      2050\n",
            "\n",
            "    accuracy                          0.672     58102\n",
            "   macro avg      0.503     0.616     0.544     58102\n",
            "weighted avg      0.693     0.672     0.680     58102\n",
            "\n"
          ]
        }
      ]
    },
    {
      "cell_type": "markdown",
      "source": [
        "Data normalization"
      ],
      "metadata": {
        "id": "lSfF8I333MRC"
      }
    },
    {
      "cell_type": "code",
      "source": [
        "scaler = MinMaxScaler()\n",
        "x_scaled = scaler.fit_transform(x)\n",
        "print(x_scaled)\n",
        "df = pd.DataFrame(x_scaled)\n",
        "df.describe()"
      ],
      "metadata": {
        "colab": {
          "base_uri": "https://localhost:8080/",
          "height": 519
        },
        "id": "5WgTfzl83Loi",
        "outputId": "88ebfe15-f381-42c7-b729-62fb9f8923e8"
      },
      "execution_count": 30,
      "outputs": [
        {
          "output_type": "stream",
          "name": "stdout",
          "text": [
            "[[0.36568284 0.15555556 0.03030303 ... 0.         0.         0.        ]\n",
            " [0.47273637 0.38611111 0.13636364 ... 0.         0.         0.        ]\n",
            " [0.46323162 0.43055556 0.27272727 ... 0.         0.         0.        ]\n",
            " ...\n",
            " [0.26363182 0.44166667 0.25757576 ... 0.         0.         0.        ]\n",
            " [0.26263132 0.47222222 0.22727273 ... 0.         0.         0.        ]\n",
            " [0.26213107 0.45833333 0.1969697  ... 0.         0.         0.        ]]\n"
          ]
        },
        {
          "output_type": "execute_result",
          "data": {
            "text/plain": [
              "                  0              1              2              3   \\\n",
              "count  581011.000000  581011.000000  581011.000000  581011.000000   \n",
              "mean        0.550458       0.432381       0.213693       0.192862   \n",
              "std         0.140062       0.310871       0.113458       0.152147   \n",
              "min         0.000000       0.000000       0.000000       0.000000   \n",
              "25%         0.475238       0.161111       0.136364       0.077309   \n",
              "50%         0.568784       0.352778       0.196970       0.156049   \n",
              "75%         0.652326       0.722222       0.272727       0.274875   \n",
              "max         1.000000       1.000000       1.000000       1.000000   \n",
              "\n",
              "                  4              5              6              7   \\\n",
              "count  581011.000000  581011.000000  581011.000000  581011.000000   \n",
              "mean        0.283487       0.330216       0.835221       0.879207   \n",
              "std         0.075317       0.219089       0.105393       0.077830   \n",
              "min         0.000000       0.000000       0.000000       0.000000   \n",
              "25%         0.232558       0.155403       0.779528       0.838583   \n",
              "50%         0.262274       0.280596       0.858268       0.889764   \n",
              "75%         0.312661       0.467613       0.909449       0.933071   \n",
              "max         1.000000       1.000000       1.000000       1.000000   \n",
              "\n",
              "                  8              9   ...             44             45  \\\n",
              "count  581011.000000  581011.000000  ...  581011.000000  581011.000000   \n",
              "mean        0.561135       0.276075  ...       0.044175       0.090392   \n",
              "std         0.150687       0.184607  ...       0.205483       0.286743   \n",
              "min         0.000000       0.000000  ...       0.000000       0.000000   \n",
              "25%         0.468504       0.142758  ...       0.000000       0.000000   \n",
              "50%         0.562992       0.238394  ...       0.000000       0.000000   \n",
              "75%         0.661417       0.355500  ...       0.000000       0.000000   \n",
              "max         1.000000       1.000000  ...       1.000000       1.000000   \n",
              "\n",
              "                  46             47             48             49  \\\n",
              "count  581011.000000  581011.000000  581011.000000  581011.000000   \n",
              "mean        0.077716       0.002773       0.003255       0.000205   \n",
              "std         0.267725       0.052584       0.056957       0.014310   \n",
              "min         0.000000       0.000000       0.000000       0.000000   \n",
              "25%         0.000000       0.000000       0.000000       0.000000   \n",
              "50%         0.000000       0.000000       0.000000       0.000000   \n",
              "75%         0.000000       0.000000       0.000000       0.000000   \n",
              "max         1.000000       1.000000       1.000000       1.000000   \n",
              "\n",
              "                  50             51             52             53  \n",
              "count  581011.000000  581011.000000  581011.000000  581011.000000  \n",
              "mean        0.000513       0.026803       0.023762       0.015060  \n",
              "std         0.022641       0.161508       0.152307       0.121792  \n",
              "min         0.000000       0.000000       0.000000       0.000000  \n",
              "25%         0.000000       0.000000       0.000000       0.000000  \n",
              "50%         0.000000       0.000000       0.000000       0.000000  \n",
              "75%         0.000000       0.000000       0.000000       0.000000  \n",
              "max         1.000000       1.000000       1.000000       1.000000  \n",
              "\n",
              "[8 rows x 54 columns]"
            ],
            "text/html": [
              "\n",
              "  <div id=\"df-fd215f93-ea7c-4acc-97e7-1d30c9510027\">\n",
              "    <div class=\"colab-df-container\">\n",
              "      <div>\n",
              "<style scoped>\n",
              "    .dataframe tbody tr th:only-of-type {\n",
              "        vertical-align: middle;\n",
              "    }\n",
              "\n",
              "    .dataframe tbody tr th {\n",
              "        vertical-align: top;\n",
              "    }\n",
              "\n",
              "    .dataframe thead th {\n",
              "        text-align: right;\n",
              "    }\n",
              "</style>\n",
              "<table border=\"1\" class=\"dataframe\">\n",
              "  <thead>\n",
              "    <tr style=\"text-align: right;\">\n",
              "      <th></th>\n",
              "      <th>0</th>\n",
              "      <th>1</th>\n",
              "      <th>2</th>\n",
              "      <th>3</th>\n",
              "      <th>4</th>\n",
              "      <th>5</th>\n",
              "      <th>6</th>\n",
              "      <th>7</th>\n",
              "      <th>8</th>\n",
              "      <th>9</th>\n",
              "      <th>...</th>\n",
              "      <th>44</th>\n",
              "      <th>45</th>\n",
              "      <th>46</th>\n",
              "      <th>47</th>\n",
              "      <th>48</th>\n",
              "      <th>49</th>\n",
              "      <th>50</th>\n",
              "      <th>51</th>\n",
              "      <th>52</th>\n",
              "      <th>53</th>\n",
              "    </tr>\n",
              "  </thead>\n",
              "  <tbody>\n",
              "    <tr>\n",
              "      <th>count</th>\n",
              "      <td>581011.000000</td>\n",
              "      <td>581011.000000</td>\n",
              "      <td>581011.000000</td>\n",
              "      <td>581011.000000</td>\n",
              "      <td>581011.000000</td>\n",
              "      <td>581011.000000</td>\n",
              "      <td>581011.000000</td>\n",
              "      <td>581011.000000</td>\n",
              "      <td>581011.000000</td>\n",
              "      <td>581011.000000</td>\n",
              "      <td>...</td>\n",
              "      <td>581011.000000</td>\n",
              "      <td>581011.000000</td>\n",
              "      <td>581011.000000</td>\n",
              "      <td>581011.000000</td>\n",
              "      <td>581011.000000</td>\n",
              "      <td>581011.000000</td>\n",
              "      <td>581011.000000</td>\n",
              "      <td>581011.000000</td>\n",
              "      <td>581011.000000</td>\n",
              "      <td>581011.000000</td>\n",
              "    </tr>\n",
              "    <tr>\n",
              "      <th>mean</th>\n",
              "      <td>0.550458</td>\n",
              "      <td>0.432381</td>\n",
              "      <td>0.213693</td>\n",
              "      <td>0.192862</td>\n",
              "      <td>0.283487</td>\n",
              "      <td>0.330216</td>\n",
              "      <td>0.835221</td>\n",
              "      <td>0.879207</td>\n",
              "      <td>0.561135</td>\n",
              "      <td>0.276075</td>\n",
              "      <td>...</td>\n",
              "      <td>0.044175</td>\n",
              "      <td>0.090392</td>\n",
              "      <td>0.077716</td>\n",
              "      <td>0.002773</td>\n",
              "      <td>0.003255</td>\n",
              "      <td>0.000205</td>\n",
              "      <td>0.000513</td>\n",
              "      <td>0.026803</td>\n",
              "      <td>0.023762</td>\n",
              "      <td>0.015060</td>\n",
              "    </tr>\n",
              "    <tr>\n",
              "      <th>std</th>\n",
              "      <td>0.140062</td>\n",
              "      <td>0.310871</td>\n",
              "      <td>0.113458</td>\n",
              "      <td>0.152147</td>\n",
              "      <td>0.075317</td>\n",
              "      <td>0.219089</td>\n",
              "      <td>0.105393</td>\n",
              "      <td>0.077830</td>\n",
              "      <td>0.150687</td>\n",
              "      <td>0.184607</td>\n",
              "      <td>...</td>\n",
              "      <td>0.205483</td>\n",
              "      <td>0.286743</td>\n",
              "      <td>0.267725</td>\n",
              "      <td>0.052584</td>\n",
              "      <td>0.056957</td>\n",
              "      <td>0.014310</td>\n",
              "      <td>0.022641</td>\n",
              "      <td>0.161508</td>\n",
              "      <td>0.152307</td>\n",
              "      <td>0.121792</td>\n",
              "    </tr>\n",
              "    <tr>\n",
              "      <th>min</th>\n",
              "      <td>0.000000</td>\n",
              "      <td>0.000000</td>\n",
              "      <td>0.000000</td>\n",
              "      <td>0.000000</td>\n",
              "      <td>0.000000</td>\n",
              "      <td>0.000000</td>\n",
              "      <td>0.000000</td>\n",
              "      <td>0.000000</td>\n",
              "      <td>0.000000</td>\n",
              "      <td>0.000000</td>\n",
              "      <td>...</td>\n",
              "      <td>0.000000</td>\n",
              "      <td>0.000000</td>\n",
              "      <td>0.000000</td>\n",
              "      <td>0.000000</td>\n",
              "      <td>0.000000</td>\n",
              "      <td>0.000000</td>\n",
              "      <td>0.000000</td>\n",
              "      <td>0.000000</td>\n",
              "      <td>0.000000</td>\n",
              "      <td>0.000000</td>\n",
              "    </tr>\n",
              "    <tr>\n",
              "      <th>25%</th>\n",
              "      <td>0.475238</td>\n",
              "      <td>0.161111</td>\n",
              "      <td>0.136364</td>\n",
              "      <td>0.077309</td>\n",
              "      <td>0.232558</td>\n",
              "      <td>0.155403</td>\n",
              "      <td>0.779528</td>\n",
              "      <td>0.838583</td>\n",
              "      <td>0.468504</td>\n",
              "      <td>0.142758</td>\n",
              "      <td>...</td>\n",
              "      <td>0.000000</td>\n",
              "      <td>0.000000</td>\n",
              "      <td>0.000000</td>\n",
              "      <td>0.000000</td>\n",
              "      <td>0.000000</td>\n",
              "      <td>0.000000</td>\n",
              "      <td>0.000000</td>\n",
              "      <td>0.000000</td>\n",
              "      <td>0.000000</td>\n",
              "      <td>0.000000</td>\n",
              "    </tr>\n",
              "    <tr>\n",
              "      <th>50%</th>\n",
              "      <td>0.568784</td>\n",
              "      <td>0.352778</td>\n",
              "      <td>0.196970</td>\n",
              "      <td>0.156049</td>\n",
              "      <td>0.262274</td>\n",
              "      <td>0.280596</td>\n",
              "      <td>0.858268</td>\n",
              "      <td>0.889764</td>\n",
              "      <td>0.562992</td>\n",
              "      <td>0.238394</td>\n",
              "      <td>...</td>\n",
              "      <td>0.000000</td>\n",
              "      <td>0.000000</td>\n",
              "      <td>0.000000</td>\n",
              "      <td>0.000000</td>\n",
              "      <td>0.000000</td>\n",
              "      <td>0.000000</td>\n",
              "      <td>0.000000</td>\n",
              "      <td>0.000000</td>\n",
              "      <td>0.000000</td>\n",
              "      <td>0.000000</td>\n",
              "    </tr>\n",
              "    <tr>\n",
              "      <th>75%</th>\n",
              "      <td>0.652326</td>\n",
              "      <td>0.722222</td>\n",
              "      <td>0.272727</td>\n",
              "      <td>0.274875</td>\n",
              "      <td>0.312661</td>\n",
              "      <td>0.467613</td>\n",
              "      <td>0.909449</td>\n",
              "      <td>0.933071</td>\n",
              "      <td>0.661417</td>\n",
              "      <td>0.355500</td>\n",
              "      <td>...</td>\n",
              "      <td>0.000000</td>\n",
              "      <td>0.000000</td>\n",
              "      <td>0.000000</td>\n",
              "      <td>0.000000</td>\n",
              "      <td>0.000000</td>\n",
              "      <td>0.000000</td>\n",
              "      <td>0.000000</td>\n",
              "      <td>0.000000</td>\n",
              "      <td>0.000000</td>\n",
              "      <td>0.000000</td>\n",
              "    </tr>\n",
              "    <tr>\n",
              "      <th>max</th>\n",
              "      <td>1.000000</td>\n",
              "      <td>1.000000</td>\n",
              "      <td>1.000000</td>\n",
              "      <td>1.000000</td>\n",
              "      <td>1.000000</td>\n",
              "      <td>1.000000</td>\n",
              "      <td>1.000000</td>\n",
              "      <td>1.000000</td>\n",
              "      <td>1.000000</td>\n",
              "      <td>1.000000</td>\n",
              "      <td>...</td>\n",
              "      <td>1.000000</td>\n",
              "      <td>1.000000</td>\n",
              "      <td>1.000000</td>\n",
              "      <td>1.000000</td>\n",
              "      <td>1.000000</td>\n",
              "      <td>1.000000</td>\n",
              "      <td>1.000000</td>\n",
              "      <td>1.000000</td>\n",
              "      <td>1.000000</td>\n",
              "      <td>1.000000</td>\n",
              "    </tr>\n",
              "  </tbody>\n",
              "</table>\n",
              "<p>8 rows × 54 columns</p>\n",
              "</div>\n",
              "      <button class=\"colab-df-convert\" onclick=\"convertToInteractive('df-fd215f93-ea7c-4acc-97e7-1d30c9510027')\"\n",
              "              title=\"Convert this dataframe to an interactive table.\"\n",
              "              style=\"display:none;\">\n",
              "        \n",
              "  <svg xmlns=\"http://www.w3.org/2000/svg\" height=\"24px\"viewBox=\"0 0 24 24\"\n",
              "       width=\"24px\">\n",
              "    <path d=\"M0 0h24v24H0V0z\" fill=\"none\"/>\n",
              "    <path d=\"M18.56 5.44l.94 2.06.94-2.06 2.06-.94-2.06-.94-.94-2.06-.94 2.06-2.06.94zm-11 1L8.5 8.5l.94-2.06 2.06-.94-2.06-.94L8.5 2.5l-.94 2.06-2.06.94zm10 10l.94 2.06.94-2.06 2.06-.94-2.06-.94-.94-2.06-.94 2.06-2.06.94z\"/><path d=\"M17.41 7.96l-1.37-1.37c-.4-.4-.92-.59-1.43-.59-.52 0-1.04.2-1.43.59L10.3 9.45l-7.72 7.72c-.78.78-.78 2.05 0 2.83L4 21.41c.39.39.9.59 1.41.59.51 0 1.02-.2 1.41-.59l7.78-7.78 2.81-2.81c.8-.78.8-2.07 0-2.86zM5.41 20L4 18.59l7.72-7.72 1.47 1.35L5.41 20z\"/>\n",
              "  </svg>\n",
              "      </button>\n",
              "      \n",
              "  <style>\n",
              "    .colab-df-container {\n",
              "      display:flex;\n",
              "      flex-wrap:wrap;\n",
              "      gap: 12px;\n",
              "    }\n",
              "\n",
              "    .colab-df-convert {\n",
              "      background-color: #E8F0FE;\n",
              "      border: none;\n",
              "      border-radius: 50%;\n",
              "      cursor: pointer;\n",
              "      display: none;\n",
              "      fill: #1967D2;\n",
              "      height: 32px;\n",
              "      padding: 0 0 0 0;\n",
              "      width: 32px;\n",
              "    }\n",
              "\n",
              "    .colab-df-convert:hover {\n",
              "      background-color: #E2EBFA;\n",
              "      box-shadow: 0px 1px 2px rgba(60, 64, 67, 0.3), 0px 1px 3px 1px rgba(60, 64, 67, 0.15);\n",
              "      fill: #174EA6;\n",
              "    }\n",
              "\n",
              "    [theme=dark] .colab-df-convert {\n",
              "      background-color: #3B4455;\n",
              "      fill: #D2E3FC;\n",
              "    }\n",
              "\n",
              "    [theme=dark] .colab-df-convert:hover {\n",
              "      background-color: #434B5C;\n",
              "      box-shadow: 0px 1px 3px 1px rgba(0, 0, 0, 0.15);\n",
              "      filter: drop-shadow(0px 1px 2px rgba(0, 0, 0, 0.3));\n",
              "      fill: #FFFFFF;\n",
              "    }\n",
              "  </style>\n",
              "\n",
              "      <script>\n",
              "        const buttonEl =\n",
              "          document.querySelector('#df-fd215f93-ea7c-4acc-97e7-1d30c9510027 button.colab-df-convert');\n",
              "        buttonEl.style.display =\n",
              "          google.colab.kernel.accessAllowed ? 'block' : 'none';\n",
              "\n",
              "        async function convertToInteractive(key) {\n",
              "          const element = document.querySelector('#df-fd215f93-ea7c-4acc-97e7-1d30c9510027');\n",
              "          const dataTable =\n",
              "            await google.colab.kernel.invokeFunction('convertToInteractive',\n",
              "                                                     [key], {});\n",
              "          if (!dataTable) return;\n",
              "\n",
              "          const docLinkHtml = 'Like what you see? Visit the ' +\n",
              "            '<a target=\"_blank\" href=https://colab.research.google.com/notebooks/data_table.ipynb>data table notebook</a>'\n",
              "            + ' to learn more about interactive tables.';\n",
              "          element.innerHTML = '';\n",
              "          dataTable['output_type'] = 'display_data';\n",
              "          await google.colab.output.renderOutput(dataTable, element);\n",
              "          const docLink = document.createElement('div');\n",
              "          docLink.innerHTML = docLinkHtml;\n",
              "          element.appendChild(docLink);\n",
              "        }\n",
              "      </script>\n",
              "    </div>\n",
              "  </div>\n",
              "  "
            ]
          },
          "metadata": {},
          "execution_count": 30
        }
      ]
    },
    {
      "cell_type": "markdown",
      "source": [
        "Second model - normalized data\n"
      ],
      "metadata": {
        "id": "uclgM-EM5JUp"
      }
    },
    {
      "cell_type": "code",
      "source": [
        "x_train ,x_test , y_train , y_test = train_test_split(x_scaled,y,test_size = 0.1)\n",
        "model = LogisticRegression(solver='liblinear' , class_weight = 'balanced')\n",
        "model.fit(x_train , y_train)"
      ],
      "metadata": {
        "colab": {
          "base_uri": "https://localhost:8080/"
        },
        "id": "avcnJwIB5L4C",
        "outputId": "63d51c9d-0812-4931-d0e9-e2b5f47a52e4"
      },
      "execution_count": 19,
      "outputs": [
        {
          "output_type": "stream",
          "name": "stdout",
          "text": [
            "[LibLinear]"
          ]
        },
        {
          "output_type": "execute_result",
          "data": {
            "text/plain": [
              "LogisticRegression(solver='liblinear', verbose=10)"
            ]
          },
          "metadata": {},
          "execution_count": 19
        }
      ]
    },
    {
      "cell_type": "code",
      "source": [
        "y_pred = model.predict(x_test)\n",
        "\n",
        "print (metrics.confusion_matrix(y_test, y_pred))\n",
        "print(metrics.classification_report(y_test, y_pred, digits=3))"
      ],
      "metadata": {
        "colab": {
          "base_uri": "https://localhost:8080/"
        },
        "id": "ecIvmiIs6eql",
        "outputId": "3b47b946-ec4a-4731-cfcd-a33fc3f51797"
      },
      "execution_count": 20,
      "outputs": [
        {
          "output_type": "stream",
          "name": "stdout",
          "text": [
            "[[14646  6143    19     0     0     0   416]\n",
            " [ 4889 22632   664     1    24    39    34]\n",
            " [    0   371  3072    23     0    93     0]\n",
            " [    0     0   196    69     0    30     0]\n",
            " [   12   794    96     0    13     3     0]\n",
            " [    0   662  1003     5     2   145     0]\n",
            " [  911    12     9     0     0     0  1074]]\n",
            "              precision    recall  f1-score   support\n",
            "\n",
            "           1      0.716     0.690     0.703     21224\n",
            "           2      0.739     0.800     0.769     28283\n",
            "           3      0.607     0.863     0.713      3559\n",
            "           4      0.704     0.234     0.351       295\n",
            "           5      0.333     0.014     0.027       918\n",
            "           6      0.468     0.080     0.136      1817\n",
            "           7      0.705     0.535     0.608      2006\n",
            "\n",
            "    accuracy                          0.717     58102\n",
            "   macro avg      0.610     0.460     0.472     58102\n",
            "weighted avg      0.706     0.717     0.702     58102\n",
            "\n"
          ]
        }
      ]
    },
    {
      "cell_type": "markdown",
      "source": [
        "Third model - target encoding"
      ],
      "metadata": {
        "id": "l5JdF2yuDGaG"
      }
    }
  ]
}