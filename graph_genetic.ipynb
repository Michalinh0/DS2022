{
  "nbformat": 4,
  "nbformat_minor": 0,
  "metadata": {
    "colab": {
      "provenance": [],
      "authorship_tag": "ABX9TyPG/fgJK126wNgjY56fSV+b",
      "include_colab_link": true
    },
    "kernelspec": {
      "name": "python3",
      "display_name": "Python 3"
    },
    "language_info": {
      "name": "python"
    }
  },
  "cells": [
    {
      "cell_type": "markdown",
      "metadata": {
        "id": "view-in-github",
        "colab_type": "text"
      },
      "source": [
        "<a href=\"https://colab.research.google.com/github/Michalinh0/DS2022/blob/main/graph_genetic.ipynb\" target=\"_parent\"><img src=\"https://colab.research.google.com/assets/colab-badge.svg\" alt=\"Open In Colab\"/></a>"
      ]
    },
    {
      "cell_type": "markdown",
      "source": [
        "# Set up"
      ],
      "metadata": {
        "id": "FvZ4c4vua5Cb"
      }
    },
    {
      "cell_type": "code",
      "execution_count": 31,
      "metadata": {
        "colab": {
          "base_uri": "https://localhost:8080/"
        },
        "id": "sgCWaGUYahq2",
        "outputId": "b44200d1-e5a9-4539-a4b9-79d554dad9ee"
      },
      "outputs": [
        {
          "output_type": "stream",
          "name": "stdout",
          "text": [
            "Looking in indexes: https://pypi.org/simple, https://us-python.pkg.dev/colab-wheels/public/simple/\n",
            "Requirement already satisfied: pygad in /usr/local/lib/python3.8/dist-packages (2.18.1)\n",
            "Requirement already satisfied: numpy in /usr/local/lib/python3.8/dist-packages (from pygad) (1.21.6)\n",
            "Requirement already satisfied: matplotlib in /usr/local/lib/python3.8/dist-packages (from pygad) (3.2.2)\n",
            "Requirement already satisfied: python-dateutil>=2.1 in /usr/local/lib/python3.8/dist-packages (from matplotlib->pygad) (2.8.2)\n",
            "Requirement already satisfied: cycler>=0.10 in /usr/local/lib/python3.8/dist-packages (from matplotlib->pygad) (0.11.0)\n",
            "Requirement already satisfied: kiwisolver>=1.0.1 in /usr/local/lib/python3.8/dist-packages (from matplotlib->pygad) (1.4.4)\n",
            "Requirement already satisfied: pyparsing!=2.0.4,!=2.1.2,!=2.1.6,>=2.0.1 in /usr/local/lib/python3.8/dist-packages (from matplotlib->pygad) (3.0.9)\n",
            "Requirement already satisfied: six>=1.5 in /usr/local/lib/python3.8/dist-packages (from python-dateutil>=2.1->matplotlib->pygad) (1.15.0)\n",
            "fatal: destination path 'genetic_algorithm_graph' already exists and is not an empty directory.\n"
          ]
        }
      ],
      "source": [
        "!pip install pygad\n",
        "import pygad\n",
        "!git clone https://github.com/Michalinh0/genetic_algorithm_graph.git\n",
        "import matplotlib.pyplot as plt"
      ]
    },
    {
      "cell_type": "markdown",
      "source": [
        "## Set up a graph"
      ],
      "metadata": {
        "id": "Ogek0hXOc2y6"
      }
    },
    {
      "cell_type": "code",
      "source": [
        "#with open('genetic_algorithm_graph/graph.txt') as file:\n",
        "#    lines = file.readlines()\n",
        "with open('genetic_algorithm_graph/graph2.txt') as file:\n",
        "    lines = file.readlines()\n",
        "#with open('genetic_algorithm_graph/graph3.txt') as file:\n",
        "#    lines = file.readlines()\n",
        "lines = [line.strip() for line in lines]\n",
        "print(lines)"
      ],
      "metadata": {
        "colab": {
          "base_uri": "https://localhost:8080/"
        },
        "id": "5HIt1-irb4DM",
        "outputId": "746e9834-ea9e-4b8a-d2c5-7ec8afcaab87"
      },
      "execution_count": 81,
      "outputs": [
        {
          "output_type": "stream",
          "name": "stdout",
          "text": [
            "['7', '1 2 1 3 2 4 2 5 3 6 3 7']\n"
          ]
        }
      ]
    },
    {
      "cell_type": "code",
      "source": [
        "vertices_count = int(lines[0])\n",
        "print(vertices_count)\n",
        "print(lines)\n",
        "lines[1] = lines[1].split(\" \")\n",
        "edges = list()\n",
        "edges_count = int(len(lines[1]) / 2)\n",
        "for i in range(edges_count):\n",
        "  edges.append((lines[1][2*i] , lines[1][2*i + 1]))\n",
        "print(edges)"
      ],
      "metadata": {
        "colab": {
          "base_uri": "https://localhost:8080/"
        },
        "id": "c5xjyyoCdxZs",
        "outputId": "342f878b-90cd-4809-d801-798671568b07"
      },
      "execution_count": 82,
      "outputs": [
        {
          "output_type": "stream",
          "name": "stdout",
          "text": [
            "7\n",
            "['7', '1 2 1 3 2 4 2 5 3 6 3 7']\n",
            "[('1', '2'), ('1', '3'), ('2', '4'), ('2', '5'), ('3', '6'), ('3', '7')]\n"
          ]
        }
      ]
    },
    {
      "cell_type": "markdown",
      "source": [
        "# Fitness function"
      ],
      "metadata": {
        "id": "Hr0vLR2UfAyG"
      }
    },
    {
      "cell_type": "code",
      "source": [],
      "metadata": {
        "id": "faAIK5ghlx7u"
      },
      "execution_count": 20,
      "outputs": []
    },
    {
      "cell_type": "code",
      "source": [],
      "metadata": {
        "id": "o7FKS1BEkumt"
      },
      "execution_count": 19,
      "outputs": []
    },
    {
      "cell_type": "code",
      "source": [
        "def cross(edge1 , edge2 , vertices):\n",
        "  x1 = vertices[int(edge1[0]) - 1]\n",
        "  y1 = vertices[int(edge1[1]) - 1]\n",
        "  x2 = vertices[int(edge2[0]) - 1]\n",
        "  y2 = vertices[int(edge2[1]) - 1]\n",
        "  print(x1 , y1 , x2 , y2)"
      ],
      "metadata": {
        "id": "N8xQVqrZfsYe"
      },
      "execution_count": 85,
      "outputs": []
    },
    {
      "cell_type": "code",
      "source": [
        "def fitness(solution, solution_idx):\n",
        "  vertices = list()\n",
        "  for i in range(vertices_count):\n",
        "    vertices.append((solution[2*i] , solution[2*i+1]))\n",
        "  print(vertices)\n",
        "  fitness = 2 * edges_count * (edges_count - 1)\n",
        "  for edge in edges:\n",
        "    for edge2 in edges:\n",
        "      print(edge, edge2)\n",
        "      if edge == edge2:\n",
        "        continue\n",
        "      if edge[0] == edge2[0] or edge[0] == edge2[1] or edge[1] == edge2[0] or edge[1] == edge2[1]:\n",
        "        continue\n",
        "      if cross(edge , edge2 , vertices):\n",
        "          fitness -= 1\n",
        "  return fitness\n",
        "      "
      ],
      "metadata": {
        "id": "79zGNzCGfAMg"
      },
      "execution_count": 88,
      "outputs": []
    },
    {
      "cell_type": "code",
      "source": [
        "fitness([1,1,2,2,3,3,4,4,5,5,6,6,7,7] , 1)"
      ],
      "metadata": {
        "colab": {
          "base_uri": "https://localhost:8080/"
        },
        "id": "fHfO5mOf0uLr",
        "outputId": "1db236ac-8995-497a-ed76-ab0d10b01806"
      },
      "execution_count": 89,
      "outputs": [
        {
          "output_type": "stream",
          "name": "stdout",
          "text": [
            "[(1, 1), (2, 2), (3, 3), (4, 4), (5, 5), (6, 6), (7, 7)]\n",
            "('1', '2') ('1', '2')\n",
            "('1', '2') ('1', '3')\n",
            "('1', '2') ('2', '4')\n",
            "('1', '2') ('2', '5')\n",
            "('1', '2') ('3', '6')\n",
            "(1, 1) (2, 2) (3, 3) (6, 6)\n",
            "('1', '2') ('3', '7')\n",
            "(1, 1) (2, 2) (3, 3) (7, 7)\n",
            "('1', '3') ('1', '2')\n",
            "('1', '3') ('1', '3')\n",
            "('1', '3') ('2', '4')\n",
            "(1, 1) (3, 3) (2, 2) (4, 4)\n",
            "('1', '3') ('2', '5')\n",
            "(1, 1) (3, 3) (2, 2) (5, 5)\n",
            "('1', '3') ('3', '6')\n",
            "('1', '3') ('3', '7')\n",
            "('2', '4') ('1', '2')\n",
            "('2', '4') ('1', '3')\n",
            "(2, 2) (4, 4) (1, 1) (3, 3)\n",
            "('2', '4') ('2', '4')\n",
            "('2', '4') ('2', '5')\n",
            "('2', '4') ('3', '6')\n",
            "(2, 2) (4, 4) (3, 3) (6, 6)\n",
            "('2', '4') ('3', '7')\n",
            "(2, 2) (4, 4) (3, 3) (7, 7)\n",
            "('2', '5') ('1', '2')\n",
            "('2', '5') ('1', '3')\n",
            "(2, 2) (5, 5) (1, 1) (3, 3)\n",
            "('2', '5') ('2', '4')\n",
            "('2', '5') ('2', '5')\n",
            "('2', '5') ('3', '6')\n",
            "(2, 2) (5, 5) (3, 3) (6, 6)\n",
            "('2', '5') ('3', '7')\n",
            "(2, 2) (5, 5) (3, 3) (7, 7)\n",
            "('3', '6') ('1', '2')\n",
            "(3, 3) (6, 6) (1, 1) (2, 2)\n",
            "('3', '6') ('1', '3')\n",
            "('3', '6') ('2', '4')\n",
            "(3, 3) (6, 6) (2, 2) (4, 4)\n",
            "('3', '6') ('2', '5')\n",
            "(3, 3) (6, 6) (2, 2) (5, 5)\n",
            "('3', '6') ('3', '6')\n",
            "('3', '6') ('3', '7')\n",
            "('3', '7') ('1', '2')\n",
            "(3, 3) (7, 7) (1, 1) (2, 2)\n",
            "('3', '7') ('1', '3')\n",
            "('3', '7') ('2', '4')\n",
            "(3, 3) (7, 7) (2, 2) (4, 4)\n",
            "('3', '7') ('2', '5')\n",
            "(3, 3) (7, 7) (2, 2) (5, 5)\n",
            "('3', '7') ('3', '6')\n",
            "('3', '7') ('3', '7')\n"
          ]
        },
        {
          "output_type": "execute_result",
          "data": {
            "text/plain": [
              "60"
            ]
          },
          "metadata": {},
          "execution_count": 89
        }
      ]
    },
    {
      "cell_type": "markdown",
      "source": [
        "# Genetic algorithm using Pygad"
      ],
      "metadata": {
        "id": "wMj8qx7Ho_4i"
      }
    },
    {
      "cell_type": "code",
      "source": [
        "fitness_function = fitness\n",
        "\n",
        "num_generations = 150\n",
        "num_parents_mating = 32\n",
        "\n",
        "sol_per_pop = 32\n",
        "num_genes = 2*vertices_count\n",
        "\n",
        "parent_selection_type = \"sss\"\n",
        "keep_parents = 1\n",
        "\n",
        "crossover_type = \"single_point\"\n",
        "\n",
        "mutation_type = \"random\"\n",
        "mutation_num_genes = 1"
      ],
      "metadata": {
        "id": "LCI4KTVsj74U"
      },
      "execution_count": 76,
      "outputs": []
    },
    {
      "cell_type": "code",
      "source": [
        "ga_instance = pygad.GA(num_generations=num_generations,\n",
        "                       num_parents_mating=num_parents_mating,\n",
        "                       fitness_func=fitness_function,\n",
        "                       sol_per_pop=sol_per_pop,\n",
        "                       num_genes=num_genes,\n",
        "                       parent_selection_type=parent_selection_type,\n",
        "                       keep_parents=keep_parents,\n",
        "                       crossover_type=crossover_type,\n",
        "                       mutation_type=mutation_type,\n",
        "                       mutation_num_genes=mutation_num_genes)\n",
        "\n",
        "ga_instance.run()"
      ],
      "metadata": {
        "id": "4_CJS4WJpMjH"
      },
      "execution_count": 77,
      "outputs": []
    },
    {
      "cell_type": "code",
      "source": [
        "solution, solution_fitness, solution_idx = ga_instance.best_solution()\n",
        "x = list()\n",
        "y = list()\n",
        "for i in range(vertices_count):\n",
        "  x.append(solution[2*i])\n",
        "  y.append(solution[2*i + 1])\n",
        "print(solution , solution_fitness)\n",
        "print(x,y)\n",
        "plt.scatter(x,y)\n",
        "print(\"-------\")\n",
        "for i, label in enumerate(x):\n",
        "    plt.annotate(f\"{i+1}\", (x[i], y[i]))\n",
        "for edge in edges:\n",
        "  x1 = x[int(edge[0])-1]\n",
        "  x2 = x[int(edge[1])-1]\n",
        "  y1 = y[int(edge[0])-1]\n",
        "  y2 = y[int(edge[1])-1]\n",
        "  print(x1 , x2 , y1 , y2)\n",
        "  print(\"-----\")\n",
        "  plt.plot((x1,x2) , (y1,y2))"
      ],
      "metadata": {
        "colab": {
          "base_uri": "https://localhost:8080/",
          "height": 589
        },
        "id": "UydgPwQMpQ7a",
        "outputId": "f9d72668-96d4-4272-9df4-74c9eecf7e5f"
      },
      "execution_count": 78,
      "outputs": [
        {
          "output_type": "stream",
          "name": "stdout",
          "text": [
            "[-0.36813847  3.35616843 -1.22368277 -1.01244562 -1.24761939 -0.36130956\n",
            "  2.41144038  4.71024018  5.35549105  3.35981647 -5.52430981 -1.03948208\n",
            "  2.39523672  1.59710775] 60\n",
            "[-0.3681384662608582, -1.2236827654225284, -1.2476193941293021, 2.4114403813795997, 5.355491052898797, -5.524309807652701, 2.395236716420925] [3.3561684339477056, -1.0124456193381366, -0.36130955794385855, 4.710240182819218, 3.3598164729091486, -1.0394820839541647, 1.597107745375173]\n",
            "-------\n",
            "-0.3681384662608582 -1.2236827654225284 3.3561684339477056 -1.0124456193381366\n",
            "-----\n",
            "-0.3681384662608582 -1.2476193941293021 3.3561684339477056 -0.36130955794385855\n",
            "-----\n",
            "-1.2236827654225284 2.4114403813795997 -1.0124456193381366 4.710240182819218\n",
            "-----\n",
            "-1.2236827654225284 5.355491052898797 -1.0124456193381366 3.3598164729091486\n",
            "-----\n",
            "-1.2476193941293021 -5.524309807652701 -0.36130955794385855 -1.0394820839541647\n",
            "-----\n",
            "-1.2476193941293021 2.395236716420925 -0.36130955794385855 1.597107745375173\n",
            "-----\n"
          ]
        },
        {
          "output_type": "display_data",
          "data": {
            "text/plain": [
              "<Figure size 432x288 with 1 Axes>"
            ],
            "image/png": "[encoded data removed]"
          },
          "metadata": {
            "needs_background": "light"
          }
        }
      ]
    }
  ]
}