{
  "nbformat": 4,
  "nbformat_minor": 0,
  "metadata": {
    "colab": {
      "provenance": [],
      "include_colab_link": true
    },
    "kernelspec": {
      "name": "python3",
      "display_name": "Python 3"
    },
    "language_info": {
      "name": "python"
    }
  },
  "cells": [
    {
      "cell_type": "markdown",
      "metadata": {
        "id": "view-in-github",
        "colab_type": "text"
      },
      "source": [
        "<a href=\"https://colab.research.google.com/github/Michalinh0/DS2022/blob/main/waveenergyconverters.ipynb\" target=\"_parent\"><img src=\"https://colab.research.google.com/assets/colab-badge.svg\" alt=\"Open In Colab\"/></a>"
      ]
    },
    {
      "cell_type": "markdown",
      "source": [
        "# Przygotowanie danych oraz bibliotek do działania notatnika"
      ],
      "metadata": {
        "id": "Eetovcap_aps"
      }
    },
    {
      "cell_type": "markdown",
      "source": [
        "Import bibliotek\n"
      ],
      "metadata": {
        "id": "0kTd8LSaxBLV"
      }
    },
    {
      "cell_type": "code",
      "execution_count": 121,
      "metadata": {
        "id": "Bmw_NOmQkvxq"
      },
      "outputs": [],
      "source": [
        "import pandas as pd\n",
        "import numpy as np\n",
        "import matplotlib.pyplot as plt\n",
        "import sklearn as sk\n",
        "import pandas as pd\n",
        "import numpy as np\n",
        "import matplotlib.pyplot as plt\n",
        "import xgboost as xgb\n",
        "import lightgbm as lgb\n",
        "from sklearn.linear_model import LinearRegression\n",
        "from sklearn.model_selection import train_test_split\n",
        "from sklearn.metrics import mean_squared_error\n",
        "from sklearn.preprocessing import PolynomialFeatures\n",
        "from sklearn.neural_network import MLPRegressor"
      ]
    },
    {
      "cell_type": "markdown",
      "source": [
        " Pobranie i wstępna obróbka danych"
      ],
      "metadata": {
        "id": "7XR32uqKxEZO"
      }
    },
    {
      "cell_type": "code",
      "source": [
        "data_adelaide = pd.read_csv(\"https://raw.githubusercontent.com/Michalinh0/DS2022/main/sources/Adelaide_Data.csv\")\n",
        "data_sydney = pd.read_csv(\"https://raw.githubusercontent.com/Michalinh0/DS2022/main/sources/Sydney_Data.csv\")\n",
        "data_perth = pd.read_csv(\"https://raw.githubusercontent.com/Michalinh0/DS2022/main/sources/Perth_Data.csv\")\n",
        "data_tasmania = pd.read_csv(\"https://raw.githubusercontent.com/Michalinh0/DS2022/main/sources/Tasmania_Data.csv\")\n",
        "\n",
        "strOfNames = []\n",
        "\n",
        "for i in range (16):\n",
        "  strOfNames.append(\"X\" + str(i+1))\n",
        "for i in range (16):\n",
        "  strOfNames.append(\"Y\" + str(i+1))\n",
        "for i in range (16):\n",
        "  strOfNames.append(\"P\" + str(i+1))\n",
        "strOfNames.append(\"Total\")\n",
        "\n",
        "data_adelaide.columns = strOfNames\n",
        "data_sydney.columns = strOfNames\n",
        "data_perth.columns = strOfNames\n",
        "data_tasmania.columns = strOfNames"
      ],
      "metadata": {
        "id": "sMxX6I05lFiC"
      },
      "execution_count": 122,
      "outputs": []
    },
    {
      "cell_type": "markdown",
      "source": [
        "Przygotowanie wektora wejściowego"
      ],
      "metadata": {
        "id": "kOb32YNDyaET"
      }
    },
    {
      "cell_type": "code",
      "source": [
        "lista = []\n",
        "\n",
        "for i in range(16):\n",
        "  arg1, arg2 = \"X\" + str(i+1) , \"Y\" + str(i+1)\n",
        "  lista.append(arg1)\n",
        "  lista.append(arg2)\n",
        "\n",
        "\n",
        "print(lista)"
      ],
      "metadata": {
        "id": "z3pagXK1segy",
        "colab": {
          "base_uri": "https://localhost:8080/"
        },
        "outputId": "61aae5f5-8cd6-4f0c-fdbf-d787ef2b37a8"
      },
      "execution_count": 123,
      "outputs": [
        {
          "output_type": "stream",
          "name": "stdout",
          "text": [
            "['X1', 'Y1', 'X2', 'Y2', 'X3', 'Y3', 'X4', 'Y4', 'X5', 'Y5', 'X6', 'Y6', 'X7', 'Y7', 'X8', 'Y8', 'X9', 'Y9', 'X10', 'Y10', 'X11', 'Y11', 'X12', 'Y12', 'X13', 'Y13', 'X14', 'Y14', 'X15', 'Y15', 'X16', 'Y16']\n"
          ]
        }
      ]
    },
    {
      "cell_type": "markdown",
      "source": [
        "# Omówienie"
      ],
      "metadata": {
        "id": "0yLvdTZ9DpSV"
      }
    },
    {
      "cell_type": "markdown",
      "source": [
        "Dane na których pracowaliśmy pobraliśmy ze strony: https://archive.ics.uci.edu/ml/datasets/Wave+Energy+Converters\n",
        "\n",
        "Forma danych:\n",
        "\n",
        "|Kolumny |Co reprezentują      |Typy danych                  |\n",
        "|--------|---------------------|-----------------------------|\n",
        "|1-16    |Pozycje X konwerterów|Wartości od 0 - 566 (metrów) |\n",
        "|17-32   |Pozycje Y konwerterów|Wartości od 0 - 566 (metrów) |\n",
        "|33-48   |Zaabsorbowana moc    |Wartości (waty)\t\t\t\t       |\n",
        "|49      |Suma wszystkich mocy |Wartości (waty)              |\n",
        "\n",
        "Cel: Optymalizacja zestawu pozycji w celu pozyskiwania jak największej ilości prądu.\n",
        "\n",
        "Sposób:"
      ],
      "metadata": {
        "id": "aeb4jjiUDwny"
      }
    },
    {
      "cell_type": "markdown",
      "source": [
        "# Adelaide"
      ],
      "metadata": {
        "id": "Y6Qfa1TP9wlC"
      }
    },
    {
      "cell_type": "markdown",
      "source": [
        "Macierz korelacji"
      ],
      "metadata": {
        "id": "CJ-wb-jmAaA-"
      }
    },
    {
      "cell_type": "code",
      "source": [
        "corr = data_adelaide.corr()\n",
        "\n",
        "plt.matshow(corr)"
      ],
      "metadata": {
        "colab": {
          "base_uri": "https://localhost:8080/",
          "height": 292
        },
        "id": "0mb0YYFUAWH8",
        "outputId": "74953123-b401-4567-ae3c-9ed1e5ff2f23"
      },
      "execution_count": 97,
      "outputs": [
        {
          "output_type": "execute_result",
          "data": {
            "text/plain": [
              "<matplotlib.image.AxesImage at 0x7f588fac1ad0>"
            ]
          },
          "metadata": {},
          "execution_count": 97
        },
        {
          "output_type": "display_data",
          "data": {
            "text/plain": [
              "<Figure size 288x288 with 1 Axes>"
            ],
            "image/png": "[encoded data removed]"
          },
          "metadata": {
            "needs_background": "light"
          }
        }
      ]
    },
    {
      "cell_type": "markdown",
      "source": [
        "Regresja liniowa"
      ],
      "metadata": {
        "id": "c6c9-Gojyq6y"
      }
    },
    {
      "cell_type": "code",
      "source": [
        "x = data_adelaide[lista].values.reshape(-1, 1)[:1000]\n",
        "y = data_adelaide[\"Total\"].values.reshape(-1, 1)[:1000]\n",
        "\n",
        "X_train, X_test, y_train, y_test = train_test_split(x, y, test_size = 0.1)\n",
        "\n",
        "model = LinearRegression()\n",
        "model.fit(X_train, y_train)"
      ],
      "metadata": {
        "colab": {
          "base_uri": "https://localhost:8080/"
        },
        "id": "jf8lmF-lqmJy",
        "outputId": "e44903fa-8b3d-462b-fd44-58cbf843a9f8"
      },
      "execution_count": 98,
      "outputs": [
        {
          "output_type": "execute_result",
          "data": {
            "text/plain": [
              "LinearRegression()"
            ]
          },
          "metadata": {},
          "execution_count": 98
        }
      ]
    },
    {
      "cell_type": "markdown",
      "source": [
        "Ocenianie jakości modelu"
      ],
      "metadata": {
        "id": "3DFXKd-Vyzlm"
      }
    },
    {
      "cell_type": "code",
      "source": [
        "y_pred = model.predict(X_test)\n",
        "\n",
        "print(\"Średni procent błędu dla regresji liniowej:\")\n",
        "print()\n",
        "print(str((np.sqrt(mean_squared_error(y_test, y_pred))/np.mean(y))*100)+\" %\")\n",
        "print(f\"RMSE: {np.sqrt(mean_squared_error(y_test, y_pred))}\")"
      ],
      "metadata": {
        "colab": {
          "base_uri": "https://localhost:8080/"
        },
        "id": "mRE72zH1sHDr",
        "outputId": "5427d716-4b22-4dea-d67b-4f4be6b08bbb"
      },
      "execution_count": 99,
      "outputs": [
        {
          "output_type": "stream",
          "name": "stdout",
          "text": [
            "Średni procent błędu dla regresji liniowej:\n",
            "\n",
            "2.230552195494507 %\n",
            "RMSE: 30562.76210933114\n"
          ]
        }
      ]
    },
    {
      "cell_type": "markdown",
      "source": [
        "Biblioteka xgboost"
      ],
      "metadata": {
        "id": "zmzBmJcJy81h"
      }
    },
    {
      "cell_type": "code",
      "source": [
        "xg_reg = xgb.XGBRegressor(objective ='reg:squarederror', colsample_bytree = 1, learning_rate = 0.15,\n",
        "                max_depth = 5, alpha = 0.2, n_estimators = 50)\n",
        "\n",
        "xg_reg.fit(X_train,y_train)\n",
        "\n",
        "preds = xg_reg.predict(X_test)\n",
        "\n",
        "rmse = np.sqrt(mean_squared_error(y_test, preds))\n",
        "\n",
        "print(\"Średni procent błędu dla biblioteki xgboost:\")\n",
        "print(str((rmse/np.mean(y))*100)+\" %\")\n",
        "print()\n",
        "print(\"RMSE: %f\" % (rmse))"
      ],
      "metadata": {
        "colab": {
          "base_uri": "https://localhost:8080/"
        },
        "id": "BpGI_l8sxqoU",
        "outputId": "91afb5bc-ee52-4a60-dcec-b2a77d098227"
      },
      "execution_count": 100,
      "outputs": [
        {
          "output_type": "stream",
          "name": "stdout",
          "text": [
            "Średni procent błędu dla biblioteki xgboost:\n",
            "2.2506700583230366 %\n",
            "\n",
            "RMSE: 30838.414684\n"
          ]
        }
      ]
    },
    {
      "cell_type": "markdown",
      "source": [
        "Biblioteka multi-layer perceptron"
      ],
      "metadata": {
        "id": "CLQIiuZyAuNZ"
      }
    },
    {
      "cell_type": "code",
      "source": [
        "regr = MLPRegressor(random_state = 1, max_iter = 5000, learning_rate_init = 0.05).fit(X_train, np.ravel(y_train))\n",
        "\n",
        "y_pred = regr.predict(X_test) \n",
        "\n",
        "print(\"Średni procent błędu dla biblioteki multi-layer perceptron\")\n",
        "print(str((np.sqrt(mean_squared_error(y_test,y_pred))/np.mean(y))*100)+\" %\")\n",
        "print()\n",
        "print(f\"RMSE: {np.sqrt(mean_squared_error(y_test,y_pred))}\")"
      ],
      "metadata": {
        "id": "Fj2_rDrw1xkB",
        "outputId": "30290731-7cce-4bf2-b313-c77c96c1e22b",
        "colab": {
          "base_uri": "https://localhost:8080/"
        }
      },
      "execution_count": 101,
      "outputs": [
        {
          "output_type": "stream",
          "name": "stdout",
          "text": [
            "Średni procent błędu dla biblioteki multi-layer perceptron\n",
            "2.2877986706256572 %\n",
            "\n",
            "RMSE: 31347.146534212625\n"
          ]
        }
      ]
    },
    {
      "cell_type": "markdown",
      "source": [
        "Biblioteka lightgbm"
      ],
      "metadata": {
        "id": "wRqiBxTzAzfI"
      }
    },
    {
      "cell_type": "code",
      "source": [
        "model = lgb.LGBMRegressor(learning_rate=0.05,max_depth=5,random_state=40)\n",
        "model.fit(X_train,np.ravel(y_train))\n",
        "\n",
        "y_pred = model.predict(X_test)\n",
        "\n",
        "print(\"Średni procent błędu dla biblioteki lightgbm:\")\n",
        "print(str((np.sqrt(mean_squared_error(y_test, y_pred))/np.mean(y))*100)+\" %\")\n",
        "print()\n",
        "print(f\"RMSE: {np.sqrt(mean_squared_error(y_test, y_pred))}\")"
      ],
      "metadata": {
        "id": "reb4EKV-zVdz",
        "colab": {
          "base_uri": "https://localhost:8080/"
        },
        "outputId": "1b9207fa-8df9-40a5-ad85-f0d6d42e92c2"
      },
      "execution_count": 102,
      "outputs": [
        {
          "output_type": "stream",
          "name": "stdout",
          "text": [
            "Średni procent błędu dla biblioteki lightgbm:\n",
            "2.284683362000653 %\n",
            "\n",
            "RMSE: 31304.460944251772\n"
          ]
        }
      ]
    },
    {
      "cell_type": "markdown",
      "source": [
        "# Sydney"
      ],
      "metadata": {
        "id": "9llMOyle95GQ"
      }
    },
    {
      "cell_type": "markdown",
      "source": [
        "Macierz korelacji"
      ],
      "metadata": {
        "id": "bff-0n0KAgTC"
      }
    },
    {
      "cell_type": "code",
      "source": [
        "corr = data_sydney.corr()\n",
        "\n",
        "plt.matshow(corr)"
      ],
      "metadata": {
        "outputId": "45543e63-9f52-4b69-b750-c16ea214f854",
        "colab": {
          "base_uri": "https://localhost:8080/",
          "height": 292
        },
        "id": "992qqdlTAgTD"
      },
      "execution_count": 103,
      "outputs": [
        {
          "output_type": "execute_result",
          "data": {
            "text/plain": [
              "<matplotlib.image.AxesImage at 0x7f588fa11b50>"
            ]
          },
          "metadata": {},
          "execution_count": 103
        },
        {
          "output_type": "display_data",
          "data": {
            "text/plain": [
              "<Figure size 288x288 with 1 Axes>"
            ],
            "image/png": "[encoded data removed]"
          },
          "metadata": {
            "needs_background": "light"
          }
        }
      ]
    },
    {
      "cell_type": "markdown",
      "source": [
        "Liniowa regresja"
      ],
      "metadata": {
        "id": "tiN_9Y9SBFv4"
      }
    },
    {
      "cell_type": "code",
      "source": [
        "x = data_sydney[lista].values.reshape(-1, 1)[:1000]\n",
        "y = data_sydney[\"Total\"].values.reshape(-1, 1)[:1000]\n",
        "\n",
        "X_train, X_test, y_train, y_test = train_test_split(x, y, test_size = 0.1)\n",
        "\n",
        "model = LinearRegression()\n",
        "model.fit(X_train, y_train)"
      ],
      "metadata": {
        "colab": {
          "base_uri": "https://localhost:8080/"
        },
        "outputId": "c7cb9240-0631-466e-a23a-ba81398da6e2",
        "id": "Eh_vra_v9_Q5"
      },
      "execution_count": 104,
      "outputs": [
        {
          "output_type": "execute_result",
          "data": {
            "text/plain": [
              "LinearRegression()"
            ]
          },
          "metadata": {},
          "execution_count": 104
        }
      ]
    },
    {
      "cell_type": "markdown",
      "source": [
        "Ocenianie jakości modelu"
      ],
      "metadata": {
        "id": "E3C7dn94BHFm"
      }
    },
    {
      "cell_type": "code",
      "source": [
        "y_pred = model.predict(X_test)\n",
        "\n",
        "print(\"Średni procent błędu dla regresji liniowej:\")\n",
        "print()\n",
        "print(str((np.sqrt(mean_squared_error(y_test, y_pred))/np.mean(y))*100)+\" %\")\n",
        "print(f\"RMSE: {np.sqrt(mean_squared_error(y_test, y_pred))}\")"
      ],
      "metadata": {
        "colab": {
          "base_uri": "https://localhost:8080/"
        },
        "outputId": "37be4bd0-4ccc-47a0-9256-f686c21b131d",
        "id": "mENemKWy9_Q6"
      },
      "execution_count": 105,
      "outputs": [
        {
          "output_type": "stream",
          "name": "stdout",
          "text": [
            "Średni procent błędu dla regresji liniowej:\n",
            "\n",
            "1.210814914608987 %\n",
            "RMSE: 18004.566811807086\n"
          ]
        }
      ]
    },
    {
      "cell_type": "markdown",
      "source": [
        "Biblioteka xgboost"
      ],
      "metadata": {
        "id": "resOr-maBJQJ"
      }
    },
    {
      "cell_type": "code",
      "source": [
        "xg_reg = xgb.XGBRegressor(objective ='reg:squarederror', colsample_bytree = 1, learning_rate = 0.15,\n",
        "                max_depth = 5, alpha = 0.2, n_estimators = 50)\n",
        "\n",
        "xg_reg.fit(X_train,y_train)\n",
        "\n",
        "preds = xg_reg.predict(X_test)\n",
        "\n",
        "rmse = np.sqrt(mean_squared_error(y_test, preds))\n",
        "\n",
        "print(\"Średni procent błędu dla biblioteki xgboost:\")\n",
        "print(str((rmse/np.mean(y))*100)+\" %\")\n",
        "print()\n",
        "print(\"RMSE: %f\" % (rmse))"
      ],
      "metadata": {
        "colab": {
          "base_uri": "https://localhost:8080/"
        },
        "outputId": "3c86009a-f979-47aa-a844-21e42c24dc98",
        "id": "BVRbzoJ69_Q7"
      },
      "execution_count": 106,
      "outputs": [
        {
          "output_type": "stream",
          "name": "stdout",
          "text": [
            "Średni procent błędu dla biblioteki xgboost:\n",
            "1.2820537254437734 %\n",
            "\n",
            "RMSE: 19063.873163\n"
          ]
        }
      ]
    },
    {
      "cell_type": "markdown",
      "source": [
        "Biblioteka multi-layer perceptron"
      ],
      "metadata": {
        "id": "t_7MoSjgBMSE"
      }
    },
    {
      "cell_type": "code",
      "source": [
        "regr = MLPRegressor(random_state = 1, max_iter = 5000, learning_rate_init = 0.05).fit(X_train,np.ravel(y_train))\n",
        "y_pred=regr.predict(X_test)\n",
        "\n",
        "print(\"Średni procent błędu dla biblioteki multi-layer perceptron\")\n",
        "print(str((np.sqrt(mean_squared_error(y_test,y_pred))/np.mean(y))*100)+\" %\")\n",
        "print()\n",
        "print(f\"RMSE: {np.sqrt(mean_squared_error(y_test,y_pred))}\")"
      ],
      "metadata": {
        "outputId": "57cae2c0-bd52-4a97-9697-25925628af7e",
        "colab": {
          "base_uri": "https://localhost:8080/"
        },
        "id": "fSohoG3t9_Q7"
      },
      "execution_count": 107,
      "outputs": [
        {
          "output_type": "stream",
          "name": "stdout",
          "text": [
            "Średni procent błędu dla biblioteki multi-layer perceptron\n",
            "1.538339677507701 %\n",
            "\n",
            "RMSE: 22874.792149290224\n"
          ]
        }
      ]
    },
    {
      "cell_type": "markdown",
      "source": [
        "Biblioteka lightgbm"
      ],
      "metadata": {
        "id": "IsXWTM7GBRyk"
      }
    },
    {
      "cell_type": "code",
      "source": [
        "model = lgb.LGBMRegressor(learning_rate=0.05,max_depth=5,random_state=40)\n",
        "model.fit(X_train,np.ravel(y_train))\n",
        "\n",
        "y_pred = model.predict(X_test)\n",
        "\n",
        "print(\"Średni procent błędu dla biblioteki lightgbm:\")\n",
        "print(str((np.sqrt(mean_squared_error(y_test, y_pred))/np.mean(y))*100)+\" %\")\n",
        "print()\n",
        "print(f\"RMSE: {np.sqrt(mean_squared_error(y_test, y_pred))}\")"
      ],
      "metadata": {
        "outputId": "f79b31ad-b1d2-4ea4-bc85-bd9a87ad270e",
        "colab": {
          "base_uri": "https://localhost:8080/"
        },
        "id": "90ynqtyO9_Q8"
      },
      "execution_count": 108,
      "outputs": [
        {
          "output_type": "stream",
          "name": "stdout",
          "text": [
            "Średni procent błędu dla biblioteki lightgbm:\n",
            "1.249554427058076 %\n",
            "\n",
            "RMSE: 18580.61533229603\n"
          ]
        }
      ]
    },
    {
      "cell_type": "markdown",
      "source": [
        "# Perth"
      ],
      "metadata": {
        "id": "cdHutId297b8"
      }
    },
    {
      "cell_type": "markdown",
      "source": [
        "Macierz korelacji"
      ],
      "metadata": {
        "id": "6OU-MPzOAhtR"
      }
    },
    {
      "cell_type": "code",
      "source": [
        "corr = data_perth.corr()\n",
        "\n",
        "plt.matshow(corr)"
      ],
      "metadata": {
        "outputId": "22e070ec-df61-46c3-8774-3dc71b5b1bbe",
        "colab": {
          "base_uri": "https://localhost:8080/",
          "height": 292
        },
        "id": "DXPIWfHsAhtT"
      },
      "execution_count": 109,
      "outputs": [
        {
          "output_type": "execute_result",
          "data": {
            "text/plain": [
              "<matplotlib.image.AxesImage at 0x7f588f983390>"
            ]
          },
          "metadata": {},
          "execution_count": 109
        },
        {
          "output_type": "display_data",
          "data": {
            "text/plain": [
              "<Figure size 288x288 with 1 Axes>"
            ],
            "image/png": "[encoded data removed]"
          },
          "metadata": {
            "needs_background": "light"
          }
        }
      ]
    },
    {
      "cell_type": "markdown",
      "source": [
        "Liniowa regresja"
      ],
      "metadata": {
        "id": "86WX8Aj9Bgnc"
      }
    },
    {
      "cell_type": "code",
      "source": [
        "x = data_perth[lista].values.reshape(-1, 1)[:1000]\n",
        "y = data_perth[\"Total\"].values.reshape(-1, 1)[:1000]\n",
        "\n",
        "X_train, X_test, y_train, y_test = train_test_split(x, y, test_size = 0.1)\n",
        "\n",
        "model = LinearRegression()\n",
        "model.fit(X_train, y_train)"
      ],
      "metadata": {
        "colab": {
          "base_uri": "https://localhost:8080/"
        },
        "outputId": "d3c5a91f-187a-408e-85a6-a0453165bd00",
        "id": "jul5FjSV-HDS"
      },
      "execution_count": 110,
      "outputs": [
        {
          "output_type": "execute_result",
          "data": {
            "text/plain": [
              "LinearRegression()"
            ]
          },
          "metadata": {},
          "execution_count": 110
        }
      ]
    },
    {
      "cell_type": "markdown",
      "source": [
        "Ocenianie jakości modelu"
      ],
      "metadata": {
        "id": "3NM0wsxoBiCJ"
      }
    },
    {
      "cell_type": "code",
      "source": [
        "y_pred = model.predict(X_test)\n",
        "\n",
        "print(\"Średni procent błędu dla regresji liniowej:\")\n",
        "print()\n",
        "print(str((np.sqrt(mean_squared_error(y_test, y_pred))/np.mean(y))*100)+\" %\")\n",
        "print(f\"RMSE: {np.sqrt(mean_squared_error(y_test, y_pred))}\")"
      ],
      "metadata": {
        "colab": {
          "base_uri": "https://localhost:8080/"
        },
        "outputId": "f26948b5-0c34-4c36-f4b2-a5acd6115763",
        "id": "0CI9DrC5-HDV"
      },
      "execution_count": 111,
      "outputs": [
        {
          "output_type": "stream",
          "name": "stdout",
          "text": [
            "Średni procent błędu dla regresji liniowej:\n",
            "\n",
            "3.1948660058205354 %\n",
            "RMSE: 45479.08552213714\n"
          ]
        }
      ]
    },
    {
      "cell_type": "markdown",
      "source": [
        "Biblioteka xgboost"
      ],
      "metadata": {
        "id": "WiPMOk9gBoMJ"
      }
    },
    {
      "cell_type": "code",
      "source": [
        "xg_reg = xgb.XGBRegressor(objective ='reg:squarederror', colsample_bytree = 1, learning_rate = 0.15,\n",
        "                max_depth = 5, alpha = 0.2, n_estimators = 50)\n",
        "\n",
        "xg_reg.fit(X_train,y_train)\n",
        "\n",
        "preds = xg_reg.predict(X_test)\n",
        "\n",
        "rmse = np.sqrt(mean_squared_error(y_test, preds))\n",
        "\n",
        "print(\"Średni procent błędu dla biblioteki xgboost:\")\n",
        "print(str((rmse/np.mean(y))*100)+\" %\")\n",
        "print()\n",
        "print(\"RMSE: %f\" % (rmse))"
      ],
      "metadata": {
        "colab": {
          "base_uri": "https://localhost:8080/"
        },
        "outputId": "84e838e1-b6e2-4561-c94d-c03acafd6173",
        "id": "nFZQML1m-HDX"
      },
      "execution_count": 112,
      "outputs": [
        {
          "output_type": "stream",
          "name": "stdout",
          "text": [
            "Średni procent błędu dla biblioteki xgboost:\n",
            "3.3299645244969436 %\n",
            "\n",
            "RMSE: 47402.220037\n"
          ]
        }
      ]
    },
    {
      "cell_type": "markdown",
      "source": [
        "Biblioteka multi-layer perceptron"
      ],
      "metadata": {
        "id": "lLRUZFkaBqSO"
      }
    },
    {
      "cell_type": "code",
      "source": [
        "regr = MLPRegressor(random_state = 1, max_iter = 5000, learning_rate_init = 0.05).fit(X_train,np.ravel(y_train))\n",
        "y_pred=regr.predict(X_test)\n",
        "\n",
        "print(\"Średni procent błędu dla biblioteki multi-layer perceptron\")\n",
        "print(str((np.sqrt(mean_squared_error(y_test,y_pred))/np.mean(y))*100)+\" %\")\n",
        "print()\n",
        "print(f\"RMSE: {np.sqrt(mean_squared_error(y_test,y_pred))}\")"
      ],
      "metadata": {
        "outputId": "d760f474-b08b-4c05-d5d8-d3e2475e7600",
        "colab": {
          "base_uri": "https://localhost:8080/"
        },
        "id": "4TkhZMFh-HDY"
      },
      "execution_count": 113,
      "outputs": [
        {
          "output_type": "stream",
          "name": "stdout",
          "text": [
            "Średni procent błędu dla biblioteki multi-layer perceptron\n",
            "3.420200507840877 %\n",
            "\n",
            "RMSE: 48686.734002480625\n"
          ]
        }
      ]
    },
    {
      "cell_type": "markdown",
      "source": [
        "Biblioteka lightgbm"
      ],
      "metadata": {
        "id": "nEGTqFS7Bugx"
      }
    },
    {
      "cell_type": "code",
      "source": [
        "model = lgb.LGBMRegressor(learning_rate=0.05,max_depth=5,random_state=40)\n",
        "model.fit(X_train,np.ravel(y_train))\n",
        "\n",
        "y_pred = model.predict(X_test)\n",
        "\n",
        "print(\"Średni procent błędu dla biblioteki lightgbm:\")\n",
        "print(str((np.sqrt(mean_squared_error(y_test, y_pred))/np.mean(y))*100)+\" %\")\n",
        "print()\n",
        "print(f\"RMSE: {np.sqrt(mean_squared_error(y_test, y_pred))}\")"
      ],
      "metadata": {
        "outputId": "c8fdb429-2662-450c-b639-e0dc7629f850",
        "colab": {
          "base_uri": "https://localhost:8080/"
        },
        "id": "PZe7GI-e-HDZ"
      },
      "execution_count": 114,
      "outputs": [
        {
          "output_type": "stream",
          "name": "stdout",
          "text": [
            "Średni procent błędu dla biblioteki lightgbm:\n",
            "3.2887686884408263 %\n",
            "\n",
            "RMSE: 46815.79514497139\n"
          ]
        }
      ]
    },
    {
      "cell_type": "markdown",
      "source": [
        "# Tasmania"
      ],
      "metadata": {
        "id": "SYDaBadz98tz"
      }
    },
    {
      "cell_type": "markdown",
      "source": [
        "Macierz korelacji"
      ],
      "metadata": {
        "id": "M5rdHosrAjDw"
      }
    },
    {
      "cell_type": "code",
      "source": [
        "corr = data_tasmania.corr()\n",
        "\n",
        "plt.matshow(corr)"
      ],
      "metadata": {
        "outputId": "e4b04cc7-bfeb-4e0b-e7e3-49dfd27a27a9",
        "colab": {
          "base_uri": "https://localhost:8080/",
          "height": 292
        },
        "id": "M_8SNHsrAjDx"
      },
      "execution_count": 115,
      "outputs": [
        {
          "output_type": "execute_result",
          "data": {
            "text/plain": [
              "<matplotlib.image.AxesImage at 0x7f588f8f0bd0>"
            ]
          },
          "metadata": {},
          "execution_count": 115
        },
        {
          "output_type": "display_data",
          "data": {
            "text/plain": [
              "<Figure size 288x288 with 1 Axes>"
            ],
            "image/png": "[encoded data removed]"
          },
          "metadata": {
            "needs_background": "light"
          }
        }
      ]
    },
    {
      "cell_type": "markdown",
      "source": [
        "Liniowa regresja"
      ],
      "metadata": {
        "id": "J6D_fDEHBxS5"
      }
    },
    {
      "cell_type": "code",
      "source": [
        "x = data_tasmania[lista].values.reshape(-1, 1)[:1000]\n",
        "y = data_tasmania[\"Total\"].values.reshape(-1, 1)[:1000]\n",
        "\n",
        "X_train, X_test, y_train, y_test = train_test_split(x, y, test_size = 0.1)\n",
        "\n",
        "model = LinearRegression()\n",
        "model.fit(X_train, y_train)"
      ],
      "metadata": {
        "colab": {
          "base_uri": "https://localhost:8080/"
        },
        "outputId": "75303a36-a10e-44d5-a254-dc07d25e6f37",
        "id": "2pztxJTu-RQ6"
      },
      "execution_count": 116,
      "outputs": [
        {
          "output_type": "execute_result",
          "data": {
            "text/plain": [
              "LinearRegression()"
            ]
          },
          "metadata": {},
          "execution_count": 116
        }
      ]
    },
    {
      "cell_type": "markdown",
      "source": [
        "Ocenianie jakości modelu"
      ],
      "metadata": {
        "id": "J03JuYWqByj7"
      }
    },
    {
      "cell_type": "code",
      "source": [
        "y_pred = model.predict(X_test)\n",
        "\n",
        "print(\"Średni procent błędu dla regresji liniowej:\")\n",
        "print()\n",
        "print(str((np.sqrt(mean_squared_error(y_test, y_pred))/np.mean(y))*100)+\" %\")\n",
        "print(f\"RMSE: {np.sqrt(mean_squared_error(y_test, y_pred))}\")"
      ],
      "metadata": {
        "colab": {
          "base_uri": "https://localhost:8080/"
        },
        "outputId": "ad552a04-306b-414a-88de-5eafce3ac57b",
        "id": "c1jiPfLA-RQ7"
      },
      "execution_count": 117,
      "outputs": [
        {
          "output_type": "stream",
          "name": "stdout",
          "text": [
            "Średni procent błędu dla regresji liniowej:\n",
            "\n",
            "1.5453305766822403 %\n",
            "RMSE: 57459.648535016095\n"
          ]
        }
      ]
    },
    {
      "cell_type": "markdown",
      "source": [
        "Biblioteka xgboost"
      ],
      "metadata": {
        "id": "jZwPEe-AB3Gj"
      }
    },
    {
      "cell_type": "code",
      "source": [
        "xg_reg = xgb.XGBRegressor(objective ='reg:squarederror', colsample_bytree = 1, learning_rate = 0.15,\n",
        "                max_depth = 5, alpha = 0.2, n_estimators = 50)\n",
        "\n",
        "xg_reg.fit(X_train,y_train)\n",
        "\n",
        "preds = xg_reg.predict(X_test)\n",
        "\n",
        "rmse = np.sqrt(mean_squared_error(y_test, preds))\n",
        "\n",
        "print(\"Średni procent błędu dla biblioteki xgboost:\")\n",
        "print(str((rmse/np.mean(y))*100)+\" %\")\n",
        "print()\n",
        "print(\"RMSE: %f\" % (rmse))"
      ],
      "metadata": {
        "colab": {
          "base_uri": "https://localhost:8080/"
        },
        "outputId": "c472bff3-db69-433f-f2f7-0e92dbbcb082",
        "id": "MX9upuHR-RQ8"
      },
      "execution_count": 118,
      "outputs": [
        {
          "output_type": "stream",
          "name": "stdout",
          "text": [
            "Średni procent błędu dla biblioteki xgboost:\n",
            "1.6511788585760352 %\n",
            "\n",
            "RMSE: 61395.379289\n"
          ]
        }
      ]
    },
    {
      "cell_type": "markdown",
      "source": [
        "Biblioteka multi-layer-perceptron"
      ],
      "metadata": {
        "id": "Pj875RQlB5xh"
      }
    },
    {
      "cell_type": "code",
      "source": [
        "regr = MLPRegressor(random_state = 1, max_iter = 5000, learning_rate_init = 0.05).fit(X_train,np.ravel(y_train))\n",
        "y_pred=regr.predict(X_test)\n",
        "\n",
        "print(\"Średni procent błędu dla biblioteki multi-layer perceptron\")\n",
        "print(str((np.sqrt(mean_squared_error(y_test,y_pred))/np.mean(y))*100)+\" %\")\n",
        "print()\n",
        "print(f\"RMSE: {np.sqrt(mean_squared_error(y_test,y_pred))}\")"
      ],
      "metadata": {
        "outputId": "c1ca82ea-ff68-4e96-d606-f30df36ebce9",
        "colab": {
          "base_uri": "https://localhost:8080/"
        },
        "id": "NLk_gcee-RQ9"
      },
      "execution_count": 119,
      "outputs": [
        {
          "output_type": "stream",
          "name": "stdout",
          "text": [
            "Średni procent błędu dla biblioteki multi-layer perceptron\n",
            "1.6160751340222532 %\n",
            "\n",
            "RMSE: 60090.12609228396\n"
          ]
        }
      ]
    },
    {
      "cell_type": "markdown",
      "source": [
        "Biblioteka lightgbm"
      ],
      "metadata": {
        "id": "ZENzJOYSCBkG"
      }
    },
    {
      "cell_type": "code",
      "source": [
        "model = lgb.LGBMRegressor(learning_rate=0.05,max_depth=5,random_state=40)\n",
        "model.fit(X_train,np.ravel(y_train))\n",
        "\n",
        "y_pred = model.predict(X_test)\n",
        "\n",
        "print(\"Średni procent błędu dla biblioteki lightgbm:\")\n",
        "print(str((np.sqrt(mean_squared_error(y_test, y_pred))/np.mean(y))*100)+\" %\")\n",
        "print()\n",
        "print(f\"RMSE: {np.sqrt(mean_squared_error(y_test, y_pred))}\")"
      ],
      "metadata": {
        "outputId": "6ee5f245-c7f7-4cbb-eb9c-f409e5a86a48",
        "colab": {
          "base_uri": "https://localhost:8080/"
        },
        "id": "O-McYE_f-RQ9"
      },
      "execution_count": 120,
      "outputs": [
        {
          "output_type": "stream",
          "name": "stdout",
          "text": [
            "Średni procent błędu dla biblioteki lightgbm:\n",
            "1.5869571625650232 %\n",
            "\n",
            "RMSE: 59007.439687684906\n"
          ]
        }
      ]
    }
  ]
}