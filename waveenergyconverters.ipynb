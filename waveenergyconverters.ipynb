{
  "nbformat": 4,
  "nbformat_minor": 0,
  "metadata": {
    "colab": {
      "provenance": [],
      "include_colab_link": true
    },
    "kernelspec": {
      "name": "python3",
      "display_name": "Python 3"
    },
    "language_info": {
      "name": "python"
    }
  },
  "cells": [
    {
      "cell_type": "markdown",
      "metadata": {
        "id": "view-in-github",
        "colab_type": "text"
      },
      "source": [
        "<a href=\"https://colab.research.google.com/github/Michalinh0/DS2022/blob/main/waveenergyconverters.ipynb\" target=\"_parent\"><img src=\"https://colab.research.google.com/assets/colab-badge.svg\" alt=\"Open In Colab\"/></a>"
      ]
    },
    {
      "cell_type": "code",
      "execution_count": 118,
      "metadata": {
        "id": "Bmw_NOmQkvxq"
      },
      "outputs": [],
      "source": [
        "import pandas as pd\n",
        "import numpy as np\n",
        "import matplotlib.pyplot as plt\n",
        "import sklearn as sk\n",
        "import pandas as pd\n",
        "import numpy as np\n",
        "import matplotlib.pyplot as plt\n",
        "import xgboost as xgb\n",
        "import lightgbm as lgb\n",
        "from sklearn.linear_model import LinearRegression\n",
        "from sklearn.model_selection import train_test_split\n",
        "from sklearn.metrics import mean_squared_error\n",
        "from sklearn.preprocessing import PolynomialFeatures\n",
        "from sklearn.neural_network import MLPRegressor"
      ]
    },
    {
      "cell_type": "code",
      "source": [
        "data_adelaide = pd.read_csv(\"Adelaide_Data.csv\")\n",
        "data_sydney = pd.read_csv(\"Sydney_Data.csv\")\n",
        "data_perth = pd.read_csv(\"Perth_Data.csv\")\n",
        "data_tasmania = pd.read_csv(\"Tasmania_Data.csv\")\n",
        "\n",
        "strOfNames = []\n",
        "\n",
        "for i in range (16):\n",
        "  strOfNames.append(\"X\" + str(i+1))\n",
        "for i in range (16):\n",
        "  strOfNames.append(\"Y\" + str(i+1))\n",
        "for i in range (16):\n",
        "  strOfNames.append(\"P\" + str(i+1))\n",
        "strOfNames.append(\"Total\")\n",
        "\n",
        "data_adelaide.columns = strOfNames\n",
        "\n",
        "ycolumns = data_adelaide.iloc[:,16:48]\n",
        "\n",
        "corr = data_adelaide.corr()\n",
        "print(type(corr))\n",
        "\n",
        "plt.matshow(corr)"
      ],
      "metadata": {
        "colab": {
          "base_uri": "https://localhost:8080/",
          "height": 310
        },
        "id": "sMxX6I05lFiC",
        "outputId": "1cee7632-5667-4595-b15a-f28ec17ab01a"
      },
      "execution_count": 119,
      "outputs": [
        {
          "output_type": "stream",
          "name": "stdout",
          "text": [
            "<class 'pandas.core.frame.DataFrame'>\n"
          ]
        },
        {
          "output_type": "execute_result",
          "data": {
            "text/plain": [
              "<matplotlib.image.AxesImage at 0x7f140208bed0>"
            ]
          },
          "metadata": {},
          "execution_count": 119
        },
        {
          "output_type": "display_data",
          "data": {
            "text/plain": [
              "<Figure size 288x288 with 1 Axes>"
            ],
            "image/png": "[encoded data removed]"
          },
          "metadata": {
            "needs_background": "light"
          }
        }
      ]
    },
    {
      "cell_type": "code",
      "source": [
        "plt.scatter(data_adelaide.iloc[:,0] , data_adelaide.iloc[:,16])"
      ],
      "metadata": {
        "colab": {
          "base_uri": "https://localhost:8080/",
          "height": 282
        },
        "id": "XrUNlZgqq_FP",
        "outputId": "70439ab6-2f2e-432a-c78a-4b521fc31f4e"
      },
      "execution_count": 120,
      "outputs": [
        {
          "output_type": "execute_result",
          "data": {
            "text/plain": [
              "<matplotlib.collections.PathCollection at 0x7f140206fad0>"
            ]
          },
          "metadata": {},
          "execution_count": 120
        },
        {
          "output_type": "display_data",
          "data": {
            "text/plain": [
              "<Figure size 432x288 with 1 Axes>"
            ],
            "image/png": "[encoded data removed]"
          },
          "metadata": {
            "needs_background": "light"
          }
        }
      ]
    },
    {
      "cell_type": "code",
      "source": [
        "plt.scatter(data_adelaide.iloc[:,1] , data_adelaide.iloc[:,17])"
      ],
      "metadata": {
        "colab": {
          "base_uri": "https://localhost:8080/",
          "height": 282
        },
        "id": "ouKcmObbsDUf",
        "outputId": "08ae789f-b2d5-4f75-d55f-d58dd6a9f7de"
      },
      "execution_count": 121,
      "outputs": [
        {
          "output_type": "execute_result",
          "data": {
            "text/plain": [
              "<matplotlib.collections.PathCollection at 0x7f1401fdf1d0>"
            ]
          },
          "metadata": {},
          "execution_count": 121
        },
        {
          "output_type": "display_data",
          "data": {
            "text/plain": [
              "<Figure size 432x288 with 1 Axes>"
            ],
            "image/png": "[encoded data removed]"
          },
          "metadata": {
            "needs_background": "light"
          }
        }
      ]
    },
    {
      "cell_type": "code",
      "source": [
        "plt.scatter(data_adelaide.iloc[:,0] , data_adelaide.iloc[:,32])"
      ],
      "metadata": {
        "colab": {
          "base_uri": "https://localhost:8080/",
          "height": 282
        },
        "id": "pvlIaZlMsMv9",
        "outputId": "d1a44964-8b00-4ee4-a182-aa31cb9251c7"
      },
      "execution_count": 122,
      "outputs": [
        {
          "output_type": "execute_result",
          "data": {
            "text/plain": [
              "<matplotlib.collections.PathCollection at 0x7f1401fbf6d0>"
            ]
          },
          "metadata": {},
          "execution_count": 122
        },
        {
          "output_type": "display_data",
          "data": {
            "text/plain": [
              "<Figure size 432x288 with 1 Axes>"
            ],
            "image/png": "[encoded data removed]"
          },
          "metadata": {
            "needs_background": "light"
          }
        }
      ]
    },
    {
      "cell_type": "code",
      "source": [
        "lista = []\n",
        "\n",
        "for i in range(16):\n",
        "  arg1, arg2 = \"X\" + str(i+1) , \"Y\" + str(i+1)\n",
        "  lista.append(arg1)\n",
        "  lista.append(arg2)\n",
        "\n",
        "\n",
        "print(lista)"
      ],
      "metadata": {
        "id": "z3pagXK1segy",
        "colab": {
          "base_uri": "https://localhost:8080/"
        },
        "outputId": "e882c28d-c866-414d-d31f-d4796fb47f86"
      },
      "execution_count": 123,
      "outputs": [
        {
          "output_type": "stream",
          "name": "stdout",
          "text": [
            "['X1', 'Y1', 'X2', 'Y2', 'X3', 'Y3', 'X4', 'Y4', 'X5', 'Y5', 'X6', 'Y6', 'X7', 'Y7', 'X8', 'Y8', 'X9', 'Y9', 'X10', 'Y10', 'X11', 'Y11', 'X12', 'Y12', 'X13', 'Y13', 'X14', 'Y14', 'X15', 'Y15', 'X16', 'Y16']\n"
          ]
        }
      ]
    },
    {
      "cell_type": "code",
      "source": [
        "x = data_adelaide[lista].values.reshape(-1, 1)[:1000]\n",
        "y = data_adelaide[\"Total\"].values.reshape(-1, 1)[:1000]\n",
        "\n",
        "X_train, X_test, y_train, y_test = train_test_split(x, y, test_size = 0.1)\n",
        "\n",
        "model = LinearRegression()\n",
        "model.fit(X_train, y_train)"
      ],
      "metadata": {
        "colab": {
          "base_uri": "https://localhost:8080/"
        },
        "id": "jf8lmF-lqmJy",
        "outputId": "8cab0432-bf35-4b56-f5be-f6bf3136db8c"
      },
      "execution_count": 124,
      "outputs": [
        {
          "output_type": "execute_result",
          "data": {
            "text/plain": [
              "LinearRegression()"
            ]
          },
          "metadata": {},
          "execution_count": 124
        }
      ]
    },
    {
      "cell_type": "code",
      "source": [
        "# f = plt.figure()\n",
        "# f.set_figwidth(30)\n",
        "# f.set_figheight(15)\n",
        "# plt.xlabel(\"X\")\n",
        "# plt.ylabel(\"Y\")\n",
        "# plt.plot(x, (x * model.coef_ + model.intercept_),\"r\")\n",
        "# plt.scatter(x,y)\n",
        "# print('Mean squared error equals:',mean_squared_error(y, (x*model.coef_+model.intercept_)))\n",
        "# print(model.coef_)\n",
        "# print(model.intercept_)\n",
        "\n",
        "y_pred = model.predict(X_test)\n",
        "\n",
        "print(\"\\nŚredni procent błędu:\")\n",
        "print(str((np.sqrt(mean_squared_error(y_test, y_pred))/np.mean(y))*100)+\" %\")\n",
        "print(np.sqrt(mean_squared_error(y_test, y_pred)))"
      ],
      "metadata": {
        "colab": {
          "base_uri": "https://localhost:8080/"
        },
        "id": "mRE72zH1sHDr",
        "outputId": "f7eecc2e-ed25-4e89-9746-42e5be70cdfb"
      },
      "execution_count": 125,
      "outputs": [
        {
          "output_type": "stream",
          "name": "stdout",
          "text": [
            "\n",
            "Średni procent błędu:\n",
            "2.2340455233906775 %\n",
            "30610.6272745921\n"
          ]
        }
      ]
    },
    {
      "cell_type": "code",
      "source": [
        "xg_reg = xgb.XGBRegressor(objective ='reg:squarederror', colsample_bytree = 0.3, learning_rate = 0.1,\n",
        "                max_depth = 1, alpha = 100, n_estimators = 100)\n",
        "\n",
        "xg_reg.fit(X_train,y_train)\n",
        "\n",
        "preds = xg_reg.predict(X_test)\n",
        "\n",
        "rmse = np.sqrt(mean_squared_error(y_test, preds))\n",
        "print(rmse)\n",
        "\n",
        "# print(str((rmse/np.mean(y))*100)+\" %\")\n",
        "# print(\"RMSE: %f\" % (rmse))"
      ],
      "metadata": {
        "colab": {
          "base_uri": "https://localhost:8080/"
        },
        "id": "BpGI_l8sxqoU",
        "outputId": "b604112f-157e-47d6-f25c-f91a67b2eaa1"
      },
      "execution_count": 126,
      "outputs": [
        {
          "output_type": "stream",
          "name": "stdout",
          "text": [
            "30666.32814169541\n"
          ]
        }
      ]
    },
    {
      "cell_type": "code",
      "source": [
        "regr = MLPRegressor(random_state = 1, max_iter = 500).fit(X_train,y_train)\n",
        "y_pred=regr.predict(X_test)\n",
        "print(np.sqrt(mean_squared_error(y_test,y_pred)))"
      ],
      "metadata": {
        "id": "Fj2_rDrw1xkB",
        "outputId": "b3e108ac-8158-498e-e7f7-a1c15c3670f2",
        "colab": {
          "base_uri": "https://localhost:8080/"
        }
      },
      "execution_count": 138,
      "outputs": [
        {
          "output_type": "stream",
          "name": "stderr",
          "text": [
            "/usr/local/lib/python3.7/dist-packages/sklearn/neural_network/_multilayer_perceptron.py:1599: DataConversionWarning: A column-vector y was passed when a 1d array was expected. Please change the shape of y to (n_samples, ), for example using ravel().\n",
            "  y = column_or_1d(y, warn=True)\n"
          ]
        },
        {
          "output_type": "stream",
          "name": "stdout",
          "text": [
            "1121069.1789225896\n"
          ]
        },
        {
          "output_type": "stream",
          "name": "stderr",
          "text": [
            "/usr/local/lib/python3.7/dist-packages/sklearn/neural_network/_multilayer_perceptron.py:696: ConvergenceWarning: Stochastic Optimizer: Maximum iterations (500) reached and the optimization hasn't converged yet.\n",
            "  ConvergenceWarning,\n"
          ]
        }
      ]
    },
    {
      "cell_type": "code",
      "source": [
        "# model = lgb.LGBMRegressor(learning_rate=0.09,max_depth=-5,random_state=42)\n",
        "# model.fit(X_train,y_train)\n",
        "\n",
        "# print('Training accuracy {:.4f}'.format(model.score(X_train,y_train)))\n",
        "# print('Testing accuracy {:.4f}'.format(model.score(X_test,y_test)))"
      ],
      "metadata": {
        "id": "reb4EKV-zVdz"
      },
      "execution_count": 128,
      "outputs": []
    },
    {
      "cell_type": "code",
      "source": [
        "data_test = pd.read_csv(\"Adelaide_Data.csv\")\n",
        "data_test.columns = strOfNames\n",
        "\n",
        "print(f\"Rows before deletion: {len(data_test)}\")\n",
        "lista.append(\"Total\")\n",
        "data_test = data_test[lista]\n",
        "\n",
        "# print(data_test)\n",
        "\n",
        "data_test.replace(0, np.nan, inplace=True)\n",
        "data_test.dropna(0, inplace=True)\n",
        "print(f\"Rows after deletion: {len(data_test)}\")\n",
        "\n",
        "lista.pop()"
      ],
      "metadata": {
        "id": "-AxaMT2opgnX",
        "outputId": "969b9171-7ad6-4d13-da53-164f322e67a4",
        "colab": {
          "base_uri": "https://localhost:8080/",
          "height": 125
        }
      },
      "execution_count": 129,
      "outputs": [
        {
          "output_type": "stream",
          "name": "stdout",
          "text": [
            "Rows before deletion: 71998\n",
            "Rows after deletion: 24250\n"
          ]
        },
        {
          "output_type": "stream",
          "name": "stderr",
          "text": [
            "/usr/local/lib/python3.7/dist-packages/ipykernel_launcher.py:11: FutureWarning: In a future version of pandas all arguments of DataFrame.dropna will be keyword-only\n",
            "  # This is added back by InteractiveShellApp.init_path()\n"
          ]
        },
        {
          "output_type": "execute_result",
          "data": {
            "text/plain": [
              "'Total'"
            ],
            "application/vnd.google.colaboratory.intrinsic+json": {
              "type": "string"
            }
          },
          "metadata": {},
          "execution_count": 129
        }
      ]
    },
    {
      "cell_type": "code",
      "source": [
        "x = data_test[lista].values.reshape(-1, 1)[:1000]\n",
        "y = data_test[\"Total\"].values.reshape(-1, 1)[:1000]\n",
        "\n",
        "X_train, X_test, y_train, y_test = train_test_split(x, y, test_size = 0.1)\n",
        "\n",
        "model = LinearRegression()\n",
        "model.fit(X_train, y_train)\n",
        "y_pred = model.predict(X_test)\n",
        "\n",
        "print(\"\\nŚredni procent błędu:\")\n",
        "print(str((np.sqrt(mean_squared_error(y_test, y_pred))/np.mean(y))*100)+\" %\")\n",
        "print(np.sqrt(mean_squared_error(y_test, y_pred)))"
      ],
      "metadata": {
        "id": "H5BFDIwptzkE",
        "outputId": "62be796d-50f9-4e6c-d005-9234400dcb52",
        "colab": {
          "base_uri": "https://localhost:8080/"
        }
      },
      "execution_count": 130,
      "outputs": [
        {
          "output_type": "stream",
          "name": "stdout",
          "text": [
            "\n",
            "Średni procent błędu:\n",
            "2.6966396277180293 %\n",
            "36815.27285787309\n"
          ]
        }
      ]
    }
  ]
}