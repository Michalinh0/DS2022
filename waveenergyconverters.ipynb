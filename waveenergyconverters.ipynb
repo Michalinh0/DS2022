{
  "nbformat": 4,
  "nbformat_minor": 0,
  "metadata": {
    "colab": {
      "provenance": [],
      "include_colab_link": true
    },
    "kernelspec": {
      "name": "python3",
      "display_name": "Python 3"
    },
    "language_info": {
      "name": "python"
    }
  },
  "cells": [
    {
      "cell_type": "markdown",
      "metadata": {
        "id": "view-in-github",
        "colab_type": "text"
      },
      "source": [
        "<a href=\"https://colab.research.google.com/github/Michalinh0/DS2022/blob/main/waveenergyconverters.ipynb\" target=\"_parent\"><img src=\"https://colab.research.google.com/assets/colab-badge.svg\" alt=\"Open In Colab\"/></a>"
      ]
    },
    {
      "cell_type": "markdown",
      "source": [
        "# Przygotowanie danych oraz bibliotek do działania notatnika"
      ],
      "metadata": {
        "id": "Eetovcap_aps"
      }
    },
    {
      "cell_type": "markdown",
      "source": [
        "Import bibliotek\n"
      ],
      "metadata": {
        "id": "0kTd8LSaxBLV"
      }
    },
    {
      "cell_type": "code",
      "execution_count": 100,
      "metadata": {
        "id": "Bmw_NOmQkvxq"
      },
      "outputs": [],
      "source": [
        "import pandas as pd\n",
        "import numpy as np\n",
        "import matplotlib.pyplot as plt\n",
        "import sklearn as sk\n",
        "import pandas as pd\n",
        "import numpy as np\n",
        "import matplotlib.pyplot as plt\n",
        "import xgboost as xgb\n",
        "import lightgbm as lgb\n",
        "from sklearn.linear_model import LinearRegression\n",
        "from sklearn.model_selection import train_test_split\n",
        "from sklearn.metrics import mean_squared_error\n",
        "from sklearn.preprocessing import PolynomialFeatures\n",
        "from sklearn.neural_network import MLPRegressor"
      ]
    },
    {
      "cell_type": "markdown",
      "source": [
        " Pobranie i wstępna obróbka danych"
      ],
      "metadata": {
        "id": "7XR32uqKxEZO"
      }
    },
    {
      "cell_type": "code",
      "source": [
        "data_adelaide = pd.read_csv(\"https://raw.githubusercontent.com/Michalinh0/DS2022/main/sources/Adelaide_Data.csv\")\n",
        "data_sydney = pd.read_csv(\"https://raw.githubusercontent.com/Michalinh0/DS2022/main/sources/Sydney_Data.csv\")\n",
        "data_perth = pd.read_csv(\"https://raw.githubusercontent.com/Michalinh0/DS2022/main/sources/Perth_Data.csv\")\n",
        "data_tasmania = pd.read_csv(\"https://raw.githubusercontent.com/Michalinh0/DS2022/main/sources/Tasmania_Data.csv\")\n",
        "\n",
        "strOfNames = []\n",
        "\n",
        "for i in range (16):\n",
        "  strOfNames.append(\"X\" + str(i+1))\n",
        "for i in range (16):\n",
        "  strOfNames.append(\"Y\" + str(i+1))\n",
        "for i in range (16):\n",
        "  strOfNames.append(\"P\" + str(i+1))\n",
        "strOfNames.append(\"Total\")\n",
        "\n",
        "data_adelaide.columns = strOfNames\n",
        "data_sydney.columns = strOfNames\n",
        "data_perth.columns = strOfNames\n",
        "data_tasmania.columns = strOfNames"
      ],
      "metadata": {
        "id": "sMxX6I05lFiC"
      },
      "execution_count": 101,
      "outputs": []
    },
    {
      "cell_type": "markdown",
      "source": [
        "Przygotowanie wektora wejściowego"
      ],
      "metadata": {
        "id": "kOb32YNDyaET"
      }
    },
    {
      "cell_type": "code",
      "source": [
        "lista = []\n",
        "\n",
        "for i in range(16):\n",
        "  arg1, arg2 = \"X\" + str(i+1) , \"Y\" + str(i+1)\n",
        "  lista.append(arg1)\n",
        "  lista.append(arg2)\n",
        "\n",
        "\n",
        "print(lista)"
      ],
      "metadata": {
        "id": "z3pagXK1segy",
        "colab": {
          "base_uri": "https://localhost:8080/"
        },
        "outputId": "dc030fbe-e79e-4a8c-a4d1-644a048b629d"
      },
      "execution_count": 102,
      "outputs": [
        {
          "output_type": "stream",
          "name": "stdout",
          "text": [
            "['X1', 'Y1', 'X2', 'Y2', 'X3', 'Y3', 'X4', 'Y4', 'X5', 'Y5', 'X6', 'Y6', 'X7', 'Y7', 'X8', 'Y8', 'X9', 'Y9', 'X10', 'Y10', 'X11', 'Y11', 'X12', 'Y12', 'X13', 'Y13', 'X14', 'Y14', 'X15', 'Y15', 'X16', 'Y16']\n"
          ]
        }
      ]
    },
    {
      "cell_type": "markdown",
      "source": [
        "# Adelaide"
      ],
      "metadata": {
        "id": "Y6Qfa1TP9wlC"
      }
    },
    {
      "cell_type": "markdown",
      "source": [
        "Macierz korelacji"
      ],
      "metadata": {
        "id": "CJ-wb-jmAaA-"
      }
    },
    {
      "cell_type": "code",
      "source": [
        "corr = data_adelaide.corr()\n",
        "\n",
        "plt.matshow(corr)"
      ],
      "metadata": {
        "colab": {
          "base_uri": "https://localhost:8080/",
          "height": 293
        },
        "id": "0mb0YYFUAWH8",
        "outputId": "5d502a56-ce80-42c7-a6fb-6ad718bc4395"
      },
      "execution_count": 103,
      "outputs": [
        {
          "output_type": "execute_result",
          "data": {
            "text/plain": [
              "<matplotlib.image.AxesImage at 0x7f64f4a79590>"
            ]
          },
          "metadata": {},
          "execution_count": 103
        },
        {
          "output_type": "display_data",
          "data": {
            "text/plain": [
              "<Figure size 288x288 with 1 Axes>"
            ],
            "image/png": "[encoded data removed]"
          },
          "metadata": {
            "needs_background": "light"
          }
        }
      ]
    },
    {
      "cell_type": "markdown",
      "source": [
        "Liniowa regresja"
      ],
      "metadata": {
        "id": "c6c9-Gojyq6y"
      }
    },
    {
      "cell_type": "code",
      "source": [
        "x = data_adelaide[lista].values.reshape(-1, 1)[:1000]\n",
        "y = data_adelaide[\"Total\"].values.reshape(-1, 1)[:1000]\n",
        "\n",
        "X_train, X_test, y_train, y_test = train_test_split(x, y, test_size = 0.1)\n",
        "\n",
        "model = LinearRegression()\n",
        "model.fit(X_train, y_train)"
      ],
      "metadata": {
        "colab": {
          "base_uri": "https://localhost:8080/"
        },
        "id": "jf8lmF-lqmJy",
        "outputId": "0cc16a2d-1c24-4320-8b08-137fb8501f50"
      },
      "execution_count": 104,
      "outputs": [
        {
          "output_type": "execute_result",
          "data": {
            "text/plain": [
              "LinearRegression()"
            ]
          },
          "metadata": {},
          "execution_count": 104
        }
      ]
    },
    {
      "cell_type": "markdown",
      "source": [
        "Ocenianie jakości modelu"
      ],
      "metadata": {
        "id": "3DFXKd-Vyzlm"
      }
    },
    {
      "cell_type": "code",
      "source": [
        "y_pred = model.predict(X_test)\n",
        "\n",
        "print(\"Średni procent błędu:\")\n",
        "print(str((np.sqrt(mean_squared_error(y_test, y_pred))/np.mean(y))*100)+\" %\")\n",
        "print(np.sqrt(mean_squared_error(y_test, y_pred)))"
      ],
      "metadata": {
        "colab": {
          "base_uri": "https://localhost:8080/"
        },
        "id": "mRE72zH1sHDr",
        "outputId": "bcd28104-dc3e-4402-c14f-1fdb37c1b05b"
      },
      "execution_count": 105,
      "outputs": [
        {
          "output_type": "stream",
          "name": "stdout",
          "text": [
            "Średni procent błędu:\n",
            "2.573496451199342 %\n",
            "35261.74370009585\n"
          ]
        }
      ]
    },
    {
      "cell_type": "markdown",
      "source": [
        "Biblioteka xgboost"
      ],
      "metadata": {
        "id": "zmzBmJcJy81h"
      }
    },
    {
      "cell_type": "code",
      "source": [
        "xg_reg = xgb.XGBRegressor(objective ='reg:squarederror', colsample_bytree = 1, learning_rate = 0.15,\n",
        "                max_depth = 5, alpha = 0.2, n_estimators = 50)\n",
        "\n",
        "xg_reg.fit(X_train,y_train)\n",
        "\n",
        "preds = xg_reg.predict(X_test)\n",
        "\n",
        "rmse = np.sqrt(mean_squared_error(y_test, preds))\n",
        "\n",
        "print(str((rmse/np.mean(y))*100)+\" %\")\n",
        "print(\"RMSE: %f\" % (rmse))"
      ],
      "metadata": {
        "colab": {
          "base_uri": "https://localhost:8080/"
        },
        "id": "BpGI_l8sxqoU",
        "outputId": "43a2fa39-c9e7-4a57-e528-6598108bb5a5"
      },
      "execution_count": 106,
      "outputs": [
        {
          "output_type": "stream",
          "name": "stdout",
          "text": [
            "2.6483464798270058 %\n",
            "RMSE: 36287.329931\n"
          ]
        }
      ]
    },
    {
      "cell_type": "markdown",
      "source": [
        "Biblioteka multi-layer perceptron"
      ],
      "metadata": {
        "id": "CLQIiuZyAuNZ"
      }
    },
    {
      "cell_type": "code",
      "source": [
        "regr = MLPRegressor(random_state = 1, max_iter = 5000, learning_rate_init = 0.05).fit(X_train,y_train)\n",
        "y_pred=regr.predict(X_test)\n",
        "print(np.sqrt(mean_squared_error(y_test,y_pred)))"
      ],
      "metadata": {
        "id": "Fj2_rDrw1xkB",
        "outputId": "dd37209d-95d4-4efb-bbdd-98536ab2caa8",
        "colab": {
          "base_uri": "https://localhost:8080/"
        }
      },
      "execution_count": 107,
      "outputs": [
        {
          "output_type": "stream",
          "name": "stderr",
          "text": [
            "/usr/local/lib/python3.7/dist-packages/sklearn/neural_network/_multilayer_perceptron.py:1599: DataConversionWarning: A column-vector y was passed when a 1d array was expected. Please change the shape of y to (n_samples, ), for example using ravel().\n",
            "  y = column_or_1d(y, warn=True)\n"
          ]
        },
        {
          "output_type": "stream",
          "name": "stdout",
          "text": [
            "36140.94165984645\n"
          ]
        }
      ]
    },
    {
      "cell_type": "markdown",
      "source": [
        "Biblioteka lightgbm"
      ],
      "metadata": {
        "id": "wRqiBxTzAzfI"
      }
    },
    {
      "cell_type": "code",
      "source": [
        "model = lgb.LGBMRegressor(learning_rate=0.05,max_depth=5,random_state=40)\n",
        "model.fit(X_train,y_train)\n",
        "\n",
        "model.predict(X_test)\n",
        "\n",
        "print(\"Średni procent błędu:\")\n",
        "print(str((np.sqrt(mean_squared_error(y_test, y_pred))/np.mean(y))*100)+\" %\")\n",
        "print(np.sqrt(mean_squared_error(y_test, y_pred)))"
      ],
      "metadata": {
        "id": "reb4EKV-zVdz",
        "colab": {
          "base_uri": "https://localhost:8080/"
        },
        "outputId": "205554e9-e7ec-4a12-ced4-9ee6f9bfc186"
      },
      "execution_count": 108,
      "outputs": [
        {
          "output_type": "stream",
          "name": "stdout",
          "text": [
            "Średni procent błędu:\n",
            "2.637662671921822 %\n",
            "36140.94165984645\n",
            "Training accuracy 0.0824\n",
            "Testing accuracy -0.0339\n"
          ]
        },
        {
          "output_type": "stream",
          "name": "stderr",
          "text": [
            "/usr/local/lib/python3.7/dist-packages/sklearn/utils/validation.py:993: DataConversionWarning: A column-vector y was passed when a 1d array was expected. Please change the shape of y to (n_samples, ), for example using ravel().\n",
            "  y = column_or_1d(y, warn=True)\n"
          ]
        }
      ]
    },
    {
      "cell_type": "markdown",
      "source": [
        "# Sydney"
      ],
      "metadata": {
        "id": "9llMOyle95GQ"
      }
    },
    {
      "cell_type": "markdown",
      "source": [
        "Macierz korelacji"
      ],
      "metadata": {
        "id": "bff-0n0KAgTC"
      }
    },
    {
      "cell_type": "code",
      "source": [
        "corr = data_adelaide.corr()\n",
        "\n",
        "plt.matshow(corr)"
      ],
      "metadata": {
        "outputId": "fb7f6e3d-e112-4f7e-8386-785c726c56e0",
        "colab": {
          "base_uri": "https://localhost:8080/",
          "height": 293
        },
        "id": "992qqdlTAgTD"
      },
      "execution_count": 109,
      "outputs": [
        {
          "output_type": "execute_result",
          "data": {
            "text/plain": [
              "<matplotlib.image.AxesImage at 0x7f64f4b06a10>"
            ]
          },
          "metadata": {},
          "execution_count": 109
        },
        {
          "output_type": "display_data",
          "data": {
            "text/plain": [
              "<Figure size 288x288 with 1 Axes>"
            ],
            "image/png": "[encoded data removed]"
          },
          "metadata": {
            "needs_background": "light"
          }
        }
      ]
    },
    {
      "cell_type": "markdown",
      "source": [
        "Liniowa regresja"
      ],
      "metadata": {
        "id": "tiN_9Y9SBFv4"
      }
    },
    {
      "cell_type": "code",
      "source": [
        "x = data_sydney[lista].values.reshape(-1, 1)[:1000]\n",
        "y = data_sydney[\"Total\"].values.reshape(-1, 1)[:1000]\n",
        "\n",
        "X_train, X_test, y_train, y_test = train_test_split(x, y, test_size = 0.1)\n",
        "\n",
        "model = LinearRegression()\n",
        "model.fit(X_train, y_train)"
      ],
      "metadata": {
        "colab": {
          "base_uri": "https://localhost:8080/"
        },
        "outputId": "ab148672-f15f-447b-852b-2b68da96458d",
        "id": "Eh_vra_v9_Q5"
      },
      "execution_count": 110,
      "outputs": [
        {
          "output_type": "execute_result",
          "data": {
            "text/plain": [
              "LinearRegression()"
            ]
          },
          "metadata": {},
          "execution_count": 110
        }
      ]
    },
    {
      "cell_type": "markdown",
      "source": [
        "Ocenianie jakości modelu"
      ],
      "metadata": {
        "id": "E3C7dn94BHFm"
      }
    },
    {
      "cell_type": "code",
      "source": [
        "y_pred = model.predict(X_test)\n",
        "\n",
        "print(\"Średni procent błędu:\")\n",
        "print(str((np.sqrt(mean_squared_error(y_test, y_pred))/np.mean(y))*100)+\" %\")\n",
        "print(np.sqrt(mean_squared_error(y_test, y_pred)))"
      ],
      "metadata": {
        "colab": {
          "base_uri": "https://localhost:8080/"
        },
        "outputId": "71f07559-a171-4f16-a5fe-b649cf0cefd0",
        "id": "mENemKWy9_Q6"
      },
      "execution_count": 111,
      "outputs": [
        {
          "output_type": "stream",
          "name": "stdout",
          "text": [
            "Średni procent błędu:\n",
            "1.401692469315813 %\n",
            "20842.87648666208\n"
          ]
        }
      ]
    },
    {
      "cell_type": "markdown",
      "source": [
        "Biblioteka xgboost"
      ],
      "metadata": {
        "id": "resOr-maBJQJ"
      }
    },
    {
      "cell_type": "code",
      "source": [
        "xg_reg = xgb.XGBRegressor(objective ='reg:squarederror', colsample_bytree = 1, learning_rate = 0.15,\n",
        "                max_depth = 5, alpha = 0.2, n_estimators = 50)\n",
        "\n",
        "xg_reg.fit(X_train,y_train)\n",
        "\n",
        "preds = xg_reg.predict(X_test)\n",
        "\n",
        "rmse = np.sqrt(mean_squared_error(y_test, preds))\n",
        "\n",
        "print(str((rmse/np.mean(y))*100)+\" %\")\n",
        "print(\"RMSE: %f\" % (rmse))"
      ],
      "metadata": {
        "colab": {
          "base_uri": "https://localhost:8080/"
        },
        "outputId": "fbdfce54-03ad-4588-da80-087c16a384d2",
        "id": "BVRbzoJ69_Q7"
      },
      "execution_count": 112,
      "outputs": [
        {
          "output_type": "stream",
          "name": "stdout",
          "text": [
            "1.4378054983520878 %\n",
            "RMSE: 21379.869743\n"
          ]
        }
      ]
    },
    {
      "cell_type": "markdown",
      "source": [
        "Biblioteka multi-layer perceptron"
      ],
      "metadata": {
        "id": "t_7MoSjgBMSE"
      }
    },
    {
      "cell_type": "code",
      "source": [
        "regr = MLPRegressor(random_state = 1, max_iter = 5000, learning_rate_init = 0.05).fit(X_train,y_train)\n",
        "y_pred=regr.predict(X_test)\n",
        "print(np.sqrt(mean_squared_error(y_test,y_pred)))"
      ],
      "metadata": {
        "outputId": "dc76e852-8410-4702-b00f-6e729fcf71e5",
        "colab": {
          "base_uri": "https://localhost:8080/"
        },
        "id": "fSohoG3t9_Q7"
      },
      "execution_count": 113,
      "outputs": [
        {
          "output_type": "stream",
          "name": "stderr",
          "text": [
            "/usr/local/lib/python3.7/dist-packages/sklearn/neural_network/_multilayer_perceptron.py:1599: DataConversionWarning: A column-vector y was passed when a 1d array was expected. Please change the shape of y to (n_samples, ), for example using ravel().\n",
            "  y = column_or_1d(y, warn=True)\n"
          ]
        },
        {
          "output_type": "stream",
          "name": "stdout",
          "text": [
            "22759.1718775815\n"
          ]
        }
      ]
    },
    {
      "cell_type": "markdown",
      "source": [
        "Biblioteka lightgbm"
      ],
      "metadata": {
        "id": "IsXWTM7GBRyk"
      }
    },
    {
      "cell_type": "code",
      "source": [
        "model = lgb.LGBMRegressor(learning_rate=0.05,max_depth=5,random_state=40)\n",
        "model.fit(X_train,y_train)\n",
        "\n",
        "model.predict(X_test)\n",
        "\n",
        "print(\"Średni procent błędu:\")\n",
        "print(str((np.sqrt(mean_squared_error(y_test, y_pred))/np.mean(y))*100)+\" %\")\n",
        "print(np.sqrt(mean_squared_error(y_test, y_pred)))"
      ],
      "metadata": {
        "outputId": "e360347e-14b5-44cd-fe86-d04cefa4f665",
        "colab": {
          "base_uri": "https://localhost:8080/"
        },
        "id": "90ynqtyO9_Q8"
      },
      "execution_count": 114,
      "outputs": [
        {
          "output_type": "stream",
          "name": "stdout",
          "text": [
            "Średni procent błędu:\n",
            "1.5305641641682597 %\n",
            "22759.1718775815\n",
            "Training accuracy 0.0700\n",
            "Testing accuracy -0.0467\n"
          ]
        },
        {
          "output_type": "stream",
          "name": "stderr",
          "text": [
            "/usr/local/lib/python3.7/dist-packages/sklearn/utils/validation.py:993: DataConversionWarning: A column-vector y was passed when a 1d array was expected. Please change the shape of y to (n_samples, ), for example using ravel().\n",
            "  y = column_or_1d(y, warn=True)\n"
          ]
        }
      ]
    },
    {
      "cell_type": "markdown",
      "source": [
        "# Perth"
      ],
      "metadata": {
        "id": "cdHutId297b8"
      }
    },
    {
      "cell_type": "markdown",
      "source": [
        "Macierz korelacji"
      ],
      "metadata": {
        "id": "6OU-MPzOAhtR"
      }
    },
    {
      "cell_type": "code",
      "source": [
        "corr = data_adelaide.corr()\n",
        "\n",
        "plt.matshow(corr)"
      ],
      "metadata": {
        "outputId": "b342d2fd-f5fa-4a45-e8a3-2d5bbaa42d1d",
        "colab": {
          "base_uri": "https://localhost:8080/",
          "height": 293
        },
        "id": "DXPIWfHsAhtT"
      },
      "execution_count": 115,
      "outputs": [
        {
          "output_type": "execute_result",
          "data": {
            "text/plain": [
              "<matplotlib.image.AxesImage at 0x7f64f7ed7610>"
            ]
          },
          "metadata": {},
          "execution_count": 115
        },
        {
          "output_type": "display_data",
          "data": {
            "text/plain": [
              "<Figure size 288x288 with 1 Axes>"
            ],
            "image/png": "[encoded data removed]"
          },
          "metadata": {
            "needs_background": "light"
          }
        }
      ]
    },
    {
      "cell_type": "markdown",
      "source": [
        "Liniowa regresja"
      ],
      "metadata": {
        "id": "86WX8Aj9Bgnc"
      }
    },
    {
      "cell_type": "code",
      "source": [
        "x = data_perth[lista].values.reshape(-1, 1)[:1000]\n",
        "y = data_perth[\"Total\"].values.reshape(-1, 1)[:1000]\n",
        "\n",
        "X_train, X_test, y_train, y_test = train_test_split(x, y, test_size = 0.1)\n",
        "\n",
        "model = LinearRegression()\n",
        "model.fit(X_train, y_train)"
      ],
      "metadata": {
        "colab": {
          "base_uri": "https://localhost:8080/"
        },
        "outputId": "c042fa00-0f8d-4c6a-85c3-32a216cc35e7",
        "id": "jul5FjSV-HDS"
      },
      "execution_count": 116,
      "outputs": [
        {
          "output_type": "execute_result",
          "data": {
            "text/plain": [
              "LinearRegression()"
            ]
          },
          "metadata": {},
          "execution_count": 116
        }
      ]
    },
    {
      "cell_type": "markdown",
      "source": [
        "Ocenianie jakości modelu"
      ],
      "metadata": {
        "id": "3NM0wsxoBiCJ"
      }
    },
    {
      "cell_type": "code",
      "source": [
        "y_pred = model.predict(X_test)\n",
        "\n",
        "print(\"Średni procent błędu:\")\n",
        "print(str((np.sqrt(mean_squared_error(y_test, y_pred))/np.mean(y))*100)+\" %\")\n",
        "print(np.sqrt(mean_squared_error(y_test, y_pred)))"
      ],
      "metadata": {
        "colab": {
          "base_uri": "https://localhost:8080/"
        },
        "outputId": "3015a07c-9b7b-463d-9eac-108cc50d8908",
        "id": "0CI9DrC5-HDV"
      },
      "execution_count": 117,
      "outputs": [
        {
          "output_type": "stream",
          "name": "stdout",
          "text": [
            "Średni procent błędu:\n",
            "3.273670124647504 %\n",
            "46600.86629575926\n"
          ]
        }
      ]
    },
    {
      "cell_type": "markdown",
      "source": [
        "Biblioteka xgboost"
      ],
      "metadata": {
        "id": "WiPMOk9gBoMJ"
      }
    },
    {
      "cell_type": "code",
      "source": [
        "xg_reg = xgb.XGBRegressor(objective ='reg:squarederror', colsample_bytree = 1, learning_rate = 0.15,\n",
        "                max_depth = 5, alpha = 0.2, n_estimators = 50)\n",
        "\n",
        "xg_reg.fit(X_train,y_train)\n",
        "\n",
        "preds = xg_reg.predict(X_test)\n",
        "\n",
        "rmse = np.sqrt(mean_squared_error(y_test, preds))\n",
        "\n",
        "print(str((rmse/np.mean(y))*100)+\" %\")\n",
        "print(\"RMSE: %f\" % (rmse))"
      ],
      "metadata": {
        "colab": {
          "base_uri": "https://localhost:8080/"
        },
        "outputId": "93362812-2c5e-4256-b113-cab16f0daeac",
        "id": "nFZQML1m-HDX"
      },
      "execution_count": 118,
      "outputs": [
        {
          "output_type": "stream",
          "name": "stdout",
          "text": [
            "3.2997542154719337 %\n",
            "RMSE: 46972.174700\n"
          ]
        }
      ]
    },
    {
      "cell_type": "markdown",
      "source": [
        "Biblioteka multi-layer perceptron"
      ],
      "metadata": {
        "id": "lLRUZFkaBqSO"
      }
    },
    {
      "cell_type": "code",
      "source": [
        "regr = MLPRegressor(random_state = 1, max_iter = 5000, learning_rate_init = 0.05).fit(X_train,y_train)\n",
        "y_pred=regr.predict(X_test)\n",
        "print(np.sqrt(mean_squared_error(y_test,y_pred)))"
      ],
      "metadata": {
        "outputId": "3414712e-616f-40fd-dbea-440bba1bb7b1",
        "colab": {
          "base_uri": "https://localhost:8080/"
        },
        "id": "4TkhZMFh-HDY"
      },
      "execution_count": 119,
      "outputs": [
        {
          "output_type": "stream",
          "name": "stderr",
          "text": [
            "/usr/local/lib/python3.7/dist-packages/sklearn/neural_network/_multilayer_perceptron.py:1599: DataConversionWarning: A column-vector y was passed when a 1d array was expected. Please change the shape of y to (n_samples, ), for example using ravel().\n",
            "  y = column_or_1d(y, warn=True)\n"
          ]
        },
        {
          "output_type": "stream",
          "name": "stdout",
          "text": [
            "48541.02024862688\n"
          ]
        }
      ]
    },
    {
      "cell_type": "markdown",
      "source": [
        "Biblioteka lightgbm"
      ],
      "metadata": {
        "id": "nEGTqFS7Bugx"
      }
    },
    {
      "cell_type": "code",
      "source": [
        "model = lgb.LGBMRegressor(learning_rate=0.05,max_depth=5,random_state=40)\n",
        "model.fit(X_train,y_train)\n",
        "\n",
        "model.predict(X_test)\n",
        "\n",
        "print(\"Średni procent błędu:\")\n",
        "print(str((np.sqrt(mean_squared_error(y_test, y_pred))/np.mean(y))*100)+\" %\")\n",
        "print(np.sqrt(mean_squared_error(y_test, y_pred)))"
      ],
      "metadata": {
        "outputId": "32889b05-7dd2-421c-9b6a-ded8636a7f84",
        "colab": {
          "base_uri": "https://localhost:8080/"
        },
        "id": "PZe7GI-e-HDZ"
      },
      "execution_count": 120,
      "outputs": [
        {
          "output_type": "stream",
          "name": "stdout",
          "text": [
            "Średni procent błędu:\n",
            "3.40996424399733 %\n",
            "48541.02024862688\n",
            "Training accuracy 0.0662\n",
            "Testing accuracy -0.0107\n"
          ]
        },
        {
          "output_type": "stream",
          "name": "stderr",
          "text": [
            "/usr/local/lib/python3.7/dist-packages/sklearn/utils/validation.py:993: DataConversionWarning: A column-vector y was passed when a 1d array was expected. Please change the shape of y to (n_samples, ), for example using ravel().\n",
            "  y = column_or_1d(y, warn=True)\n"
          ]
        }
      ]
    },
    {
      "cell_type": "markdown",
      "source": [
        "# Tasmania"
      ],
      "metadata": {
        "id": "SYDaBadz98tz"
      }
    },
    {
      "cell_type": "markdown",
      "source": [
        "Macierz korelacji"
      ],
      "metadata": {
        "id": "M5rdHosrAjDw"
      }
    },
    {
      "cell_type": "code",
      "source": [
        "corr = data_adelaide.corr()\n",
        "\n",
        "plt.matshow(corr)"
      ],
      "metadata": {
        "outputId": "f0ff3fc2-41cd-41f7-e9bb-7ab6558b504d",
        "colab": {
          "base_uri": "https://localhost:8080/",
          "height": 293
        },
        "id": "M_8SNHsrAjDx"
      },
      "execution_count": 121,
      "outputs": [
        {
          "output_type": "execute_result",
          "data": {
            "text/plain": [
              "<matplotlib.image.AxesImage at 0x7f64f4aecd50>"
            ]
          },
          "metadata": {},
          "execution_count": 121
        },
        {
          "output_type": "display_data",
          "data": {
            "text/plain": [
              "<Figure size 288x288 with 1 Axes>"
            ],
            "image/png": "[encoded data removed]"
          },
          "metadata": {
            "needs_background": "light"
          }
        }
      ]
    },
    {
      "cell_type": "markdown",
      "source": [
        "Liniowa regresja"
      ],
      "metadata": {
        "id": "J6D_fDEHBxS5"
      }
    },
    {
      "cell_type": "code",
      "source": [
        "x = data_tasmania[lista].values.reshape(-1, 1)[:1000]\n",
        "y = data_tasmania[\"Total\"].values.reshape(-1, 1)[:1000]\n",
        "\n",
        "X_train, X_test, y_train, y_test = train_test_split(x, y, test_size = 0.1)\n",
        "\n",
        "model = LinearRegression()\n",
        "model.fit(X_train, y_train)"
      ],
      "metadata": {
        "colab": {
          "base_uri": "https://localhost:8080/"
        },
        "outputId": "6d879185-cb64-4f61-8e29-5c91adccdaab",
        "id": "2pztxJTu-RQ6"
      },
      "execution_count": 122,
      "outputs": [
        {
          "output_type": "execute_result",
          "data": {
            "text/plain": [
              "LinearRegression()"
            ]
          },
          "metadata": {},
          "execution_count": 122
        }
      ]
    },
    {
      "cell_type": "markdown",
      "source": [
        "Ocenianie jakości modelu"
      ],
      "metadata": {
        "id": "J03JuYWqByj7"
      }
    },
    {
      "cell_type": "code",
      "source": [
        "y_pred = model.predict(X_test)\n",
        "\n",
        "print(\"Średni procent błędu:\")\n",
        "print(str((np.sqrt(mean_squared_error(y_test, y_pred))/np.mean(y))*100)+\" %\")\n",
        "print(np.sqrt(mean_squared_error(y_test, y_pred)))"
      ],
      "metadata": {
        "colab": {
          "base_uri": "https://localhost:8080/"
        },
        "outputId": "b9aa2ced-daac-424d-b71d-a70b5b48097c",
        "id": "c1jiPfLA-RQ7"
      },
      "execution_count": 123,
      "outputs": [
        {
          "output_type": "stream",
          "name": "stdout",
          "text": [
            "Średni procent błędu:\n",
            "1.9161034779983563 %\n",
            "71246.00655924677\n"
          ]
        }
      ]
    },
    {
      "cell_type": "markdown",
      "source": [
        "Biblioteka xgboost"
      ],
      "metadata": {
        "id": "jZwPEe-AB3Gj"
      }
    },
    {
      "cell_type": "code",
      "source": [
        "xg_reg = xgb.XGBRegressor(objective ='reg:squarederror', colsample_bytree = 1, learning_rate = 0.15,\n",
        "                max_depth = 5, alpha = 0.2, n_estimators = 50)\n",
        "\n",
        "xg_reg.fit(X_train,y_train)\n",
        "\n",
        "preds = xg_reg.predict(X_test)\n",
        "\n",
        "rmse = np.sqrt(mean_squared_error(y_test, preds))\n",
        "\n",
        "print(str((rmse/np.mean(y))*100)+\" %\")\n",
        "print(\"RMSE: %f\" % (rmse))"
      ],
      "metadata": {
        "colab": {
          "base_uri": "https://localhost:8080/"
        },
        "outputId": "df586920-de28-461d-f37a-e0a2019660b1",
        "id": "MX9upuHR-RQ8"
      },
      "execution_count": 124,
      "outputs": [
        {
          "output_type": "stream",
          "name": "stdout",
          "text": [
            "1.9525114621869517 %\n",
            "RMSE: 72599.755723\n"
          ]
        }
      ]
    },
    {
      "cell_type": "markdown",
      "source": [
        "Biblioteka multi-layer-perceptron"
      ],
      "metadata": {
        "id": "Pj875RQlB5xh"
      }
    },
    {
      "cell_type": "code",
      "source": [
        "regr = MLPRegressor(random_state = 1, max_iter = 5000, learning_rate_init = 0.05).fit(X_train,y_train)\n",
        "y_pred=regr.predict(X_test)\n",
        "print(np.sqrt(mean_squared_error(y_test,y_pred)))"
      ],
      "metadata": {
        "outputId": "a7835dfc-a8b6-4bbd-9745-d44f67a2d7a5",
        "colab": {
          "base_uri": "https://localhost:8080/"
        },
        "id": "NLk_gcee-RQ9"
      },
      "execution_count": 125,
      "outputs": [
        {
          "output_type": "stream",
          "name": "stderr",
          "text": [
            "/usr/local/lib/python3.7/dist-packages/sklearn/neural_network/_multilayer_perceptron.py:1599: DataConversionWarning: A column-vector y was passed when a 1d array was expected. Please change the shape of y to (n_samples, ), for example using ravel().\n",
            "  y = column_or_1d(y, warn=True)\n"
          ]
        },
        {
          "output_type": "stream",
          "name": "stdout",
          "text": [
            "76894.53440527871\n"
          ]
        }
      ]
    },
    {
      "cell_type": "markdown",
      "source": [
        "Biblioteka lightgbm"
      ],
      "metadata": {
        "id": "ZENzJOYSCBkG"
      }
    },
    {
      "cell_type": "code",
      "source": [
        "model = lgb.LGBMRegressor(learning_rate=0.05,max_depth=5,random_state=40)\n",
        "model.fit(X_train,y_train)\n",
        "\n",
        "model.predict(X_test)\n",
        "\n",
        "print(\"Średni procent błędu:\")\n",
        "print(str((np.sqrt(mean_squared_error(y_test, y_pred))/np.mean(y))*100)+\" %\")\n",
        "print(np.sqrt(mean_squared_error(y_test, y_pred)))"
      ],
      "metadata": {
        "outputId": "a0f3b44c-bf91-4c38-d22a-5bfbcdd85928",
        "colab": {
          "base_uri": "https://localhost:8080/"
        },
        "id": "O-McYE_f-RQ9"
      },
      "execution_count": 126,
      "outputs": [
        {
          "output_type": "stream",
          "name": "stdout",
          "text": [
            "Średni procent błędu:\n",
            "2.068016046492312 %\n",
            "76894.53440527871\n",
            "Training accuracy 0.0827\n",
            "Testing accuracy -0.0283\n"
          ]
        },
        {
          "output_type": "stream",
          "name": "stderr",
          "text": [
            "/usr/local/lib/python3.7/dist-packages/sklearn/utils/validation.py:993: DataConversionWarning: A column-vector y was passed when a 1d array was expected. Please change the shape of y to (n_samples, ), for example using ravel().\n",
            "  y = column_or_1d(y, warn=True)\n"
          ]
        }
      ]
    }
  ]
}